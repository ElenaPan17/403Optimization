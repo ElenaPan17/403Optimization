{
 "cells": [
  {
   "cell_type": "markdown",
   "id": "d84e30c6-e9bc-461d-8f33-56ce11aef024",
   "metadata": {},
   "source": [
    "# MGMTMSA 403: Optimization"
   ]
  },
  {
   "cell_type": "markdown",
   "id": "b212d43f-d7eb-4d17-9464-bf6ece3909c8",
   "metadata": {},
   "source": [
    "## Assignment 3: Predicting Airbnb Prices"
   ]
  },
  {
   "cell_type": "markdown",
   "id": "50ed73ce-4d80-40b6-8d2b-732c2cb05c56",
   "metadata": {
    "tags": []
   },
   "source": [
    "Group Members: Guangying Pan, Yijie Fu"
   ]
  },
  {
   "cell_type": "markdown",
   "id": "7c64a46c-d8c4-4a7b-a3ec-8b41985cc67b",
   "metadata": {},
   "source": [
    "### Data Preprocessing"
   ]
  },
  {
   "cell_type": "code",
   "execution_count": 1,
   "id": "39739afe-0d30-482c-b0ad-ab2dc22d0c81",
   "metadata": {
    "tags": []
   },
   "outputs": [],
   "source": [
    "import pandas as pd"
   ]
  },
  {
   "cell_type": "code",
   "execution_count": 2,
   "id": "7268c2e1-f30c-4918-812e-0a197f672096",
   "metadata": {
    "tags": []
   },
   "outputs": [
    {
     "data": {
      "text/html": [
       "<div>\n",
       "<style scoped>\n",
       "    .dataframe tbody tr th:only-of-type {\n",
       "        vertical-align: middle;\n",
       "    }\n",
       "\n",
       "    .dataframe tbody tr th {\n",
       "        vertical-align: top;\n",
       "    }\n",
       "\n",
       "    .dataframe thead th {\n",
       "        text-align: right;\n",
       "    }\n",
       "</style>\n",
       "<table border=\"1\" class=\"dataframe\">\n",
       "  <thead>\n",
       "    <tr style=\"text-align: right;\">\n",
       "      <th></th>\n",
       "      <th>latitude</th>\n",
       "      <th>longitude</th>\n",
       "      <th>Entire home</th>\n",
       "      <th>accommodates</th>\n",
       "      <th>bathrooms</th>\n",
       "      <th>bedrooms</th>\n",
       "      <th>beds</th>\n",
       "      <th>cleaning_fee</th>\n",
       "      <th>minimum_nights</th>\n",
       "      <th>number_of_reviews</th>\n",
       "      <th>review_scores_rating</th>\n",
       "      <th>instant_bookable</th>\n",
       "      <th>price</th>\n",
       "    </tr>\n",
       "  </thead>\n",
       "  <tbody>\n",
       "    <tr>\n",
       "      <th>0</th>\n",
       "      <td>34.103701</td>\n",
       "      <td>-118.332241</td>\n",
       "      <td>1</td>\n",
       "      <td>13</td>\n",
       "      <td>2.0</td>\n",
       "      <td>3</td>\n",
       "      <td>2</td>\n",
       "      <td>150</td>\n",
       "      <td>2</td>\n",
       "      <td>1</td>\n",
       "      <td>100</td>\n",
       "      <td>1</td>\n",
       "      <td>350</td>\n",
       "    </tr>\n",
       "    <tr>\n",
       "      <th>1</th>\n",
       "      <td>34.099484</td>\n",
       "      <td>-118.331645</td>\n",
       "      <td>1</td>\n",
       "      <td>8</td>\n",
       "      <td>2.0</td>\n",
       "      <td>2</td>\n",
       "      <td>4</td>\n",
       "      <td>150</td>\n",
       "      <td>1</td>\n",
       "      <td>11</td>\n",
       "      <td>96</td>\n",
       "      <td>1</td>\n",
       "      <td>190</td>\n",
       "    </tr>\n",
       "    <tr>\n",
       "      <th>2</th>\n",
       "      <td>34.104321</td>\n",
       "      <td>-118.329662</td>\n",
       "      <td>1</td>\n",
       "      <td>4</td>\n",
       "      <td>1.0</td>\n",
       "      <td>0</td>\n",
       "      <td>1</td>\n",
       "      <td>55</td>\n",
       "      <td>1</td>\n",
       "      <td>1</td>\n",
       "      <td>80</td>\n",
       "      <td>0</td>\n",
       "      <td>85</td>\n",
       "    </tr>\n",
       "    <tr>\n",
       "      <th>3</th>\n",
       "      <td>34.101028</td>\n",
       "      <td>-118.317848</td>\n",
       "      <td>0</td>\n",
       "      <td>2</td>\n",
       "      <td>1.0</td>\n",
       "      <td>1</td>\n",
       "      <td>1</td>\n",
       "      <td>20</td>\n",
       "      <td>1</td>\n",
       "      <td>8</td>\n",
       "      <td>98</td>\n",
       "      <td>0</td>\n",
       "      <td>75</td>\n",
       "    </tr>\n",
       "    <tr>\n",
       "      <th>4</th>\n",
       "      <td>34.098292</td>\n",
       "      <td>-118.324980</td>\n",
       "      <td>1</td>\n",
       "      <td>2</td>\n",
       "      <td>1.0</td>\n",
       "      <td>1</td>\n",
       "      <td>1</td>\n",
       "      <td>20</td>\n",
       "      <td>1</td>\n",
       "      <td>11</td>\n",
       "      <td>96</td>\n",
       "      <td>0</td>\n",
       "      <td>130</td>\n",
       "    </tr>\n",
       "  </tbody>\n",
       "</table>\n",
       "</div>"
      ],
      "text/plain": [
       "    latitude   longitude  Entire home  accommodates  bathrooms  bedrooms  \\\n",
       "0  34.103701 -118.332241            1            13        2.0         3   \n",
       "1  34.099484 -118.331645            1             8        2.0         2   \n",
       "2  34.104321 -118.329662            1             4        1.0         0   \n",
       "3  34.101028 -118.317848            0             2        1.0         1   \n",
       "4  34.098292 -118.324980            1             2        1.0         1   \n",
       "\n",
       "   beds  cleaning_fee  minimum_nights  number_of_reviews  \\\n",
       "0     2           150               2                  1   \n",
       "1     4           150               1                 11   \n",
       "2     1            55               1                  1   \n",
       "3     1            20               1                  8   \n",
       "4     1            20               1                 11   \n",
       "\n",
       "   review_scores_rating  instant_bookable  price  \n",
       "0                   100                 1    350  \n",
       "1                    96                 1    190  \n",
       "2                    80                 0     85  \n",
       "3                    98                 0     75  \n",
       "4                    96                 0    130  "
      ]
     },
     "execution_count": 2,
     "metadata": {},
     "output_type": "execute_result"
    }
   ],
   "source": [
    "train = pd.read_csv('AirbnbTrain.csv')\n",
    "train.head()"
   ]
  },
  {
   "cell_type": "code",
   "execution_count": 3,
   "id": "c498bff9-675c-48bd-8676-adbb6a03f416",
   "metadata": {
    "tags": []
   },
   "outputs": [
    {
     "data": {
      "text/plain": [
       "(1700, 13)"
      ]
     },
     "execution_count": 3,
     "metadata": {},
     "output_type": "execute_result"
    }
   ],
   "source": [
    "train.shape"
   ]
  },
  {
   "cell_type": "code",
   "execution_count": 4,
   "id": "5eb04f9d-0fb1-4d1c-9875-3c0d1f56fcbb",
   "metadata": {
    "tags": []
   },
   "outputs": [
    {
     "data": {
      "text/html": [
       "<div>\n",
       "<style scoped>\n",
       "    .dataframe tbody tr th:only-of-type {\n",
       "        vertical-align: middle;\n",
       "    }\n",
       "\n",
       "    .dataframe tbody tr th {\n",
       "        vertical-align: top;\n",
       "    }\n",
       "\n",
       "    .dataframe thead th {\n",
       "        text-align: right;\n",
       "    }\n",
       "</style>\n",
       "<table border=\"1\" class=\"dataframe\">\n",
       "  <thead>\n",
       "    <tr style=\"text-align: right;\">\n",
       "      <th></th>\n",
       "      <th>latitude</th>\n",
       "      <th>longitude</th>\n",
       "      <th>Entire home</th>\n",
       "      <th>accommodates</th>\n",
       "      <th>bathrooms</th>\n",
       "      <th>bedrooms</th>\n",
       "      <th>beds</th>\n",
       "      <th>cleaning_fee</th>\n",
       "      <th>minimum_nights</th>\n",
       "      <th>number_of_reviews</th>\n",
       "      <th>review_scores_rating</th>\n",
       "      <th>instant_bookable</th>\n",
       "      <th>price</th>\n",
       "    </tr>\n",
       "  </thead>\n",
       "  <tbody>\n",
       "    <tr>\n",
       "      <th>0</th>\n",
       "      <td>34.100604</td>\n",
       "      <td>-118.341787</td>\n",
       "      <td>0</td>\n",
       "      <td>2</td>\n",
       "      <td>1.0</td>\n",
       "      <td>1</td>\n",
       "      <td>1</td>\n",
       "      <td>40</td>\n",
       "      <td>1</td>\n",
       "      <td>261</td>\n",
       "      <td>96</td>\n",
       "      <td>1</td>\n",
       "      <td>100</td>\n",
       "    </tr>\n",
       "    <tr>\n",
       "      <th>1</th>\n",
       "      <td>34.100607</td>\n",
       "      <td>-118.350583</td>\n",
       "      <td>1</td>\n",
       "      <td>8</td>\n",
       "      <td>2.0</td>\n",
       "      <td>2</td>\n",
       "      <td>2</td>\n",
       "      <td>100</td>\n",
       "      <td>2</td>\n",
       "      <td>10</td>\n",
       "      <td>98</td>\n",
       "      <td>0</td>\n",
       "      <td>300</td>\n",
       "    </tr>\n",
       "    <tr>\n",
       "      <th>2</th>\n",
       "      <td>34.100610</td>\n",
       "      <td>-118.347617</td>\n",
       "      <td>1</td>\n",
       "      <td>2</td>\n",
       "      <td>1.0</td>\n",
       "      <td>1</td>\n",
       "      <td>1</td>\n",
       "      <td>80</td>\n",
       "      <td>2</td>\n",
       "      <td>1</td>\n",
       "      <td>100</td>\n",
       "      <td>1</td>\n",
       "      <td>125</td>\n",
       "    </tr>\n",
       "    <tr>\n",
       "      <th>3</th>\n",
       "      <td>34.100611</td>\n",
       "      <td>-118.342180</td>\n",
       "      <td>1</td>\n",
       "      <td>3</td>\n",
       "      <td>1.0</td>\n",
       "      <td>0</td>\n",
       "      <td>2</td>\n",
       "      <td>55</td>\n",
       "      <td>2</td>\n",
       "      <td>54</td>\n",
       "      <td>97</td>\n",
       "      <td>1</td>\n",
       "      <td>169</td>\n",
       "    </tr>\n",
       "    <tr>\n",
       "      <th>4</th>\n",
       "      <td>34.100618</td>\n",
       "      <td>-118.342791</td>\n",
       "      <td>1</td>\n",
       "      <td>4</td>\n",
       "      <td>1.0</td>\n",
       "      <td>1</td>\n",
       "      <td>1</td>\n",
       "      <td>70</td>\n",
       "      <td>2</td>\n",
       "      <td>233</td>\n",
       "      <td>92</td>\n",
       "      <td>1</td>\n",
       "      <td>119</td>\n",
       "    </tr>\n",
       "  </tbody>\n",
       "</table>\n",
       "</div>"
      ],
      "text/plain": [
       "    latitude   longitude  Entire home  accommodates  bathrooms  bedrooms  \\\n",
       "0  34.100604 -118.341787            0             2        1.0         1   \n",
       "1  34.100607 -118.350583            1             8        2.0         2   \n",
       "2  34.100610 -118.347617            1             2        1.0         1   \n",
       "3  34.100611 -118.342180            1             3        1.0         0   \n",
       "4  34.100618 -118.342791            1             4        1.0         1   \n",
       "\n",
       "   beds  cleaning_fee  minimum_nights  number_of_reviews  \\\n",
       "0     1            40               1                261   \n",
       "1     2           100               2                 10   \n",
       "2     1            80               2                  1   \n",
       "3     2            55               2                 54   \n",
       "4     1            70               2                233   \n",
       "\n",
       "   review_scores_rating  instant_bookable  price  \n",
       "0                    96                 1    100  \n",
       "1                    98                 0    300  \n",
       "2                   100                 1    125  \n",
       "3                    97                 1    169  \n",
       "4                    92                 1    119  "
      ]
     },
     "execution_count": 4,
     "metadata": {},
     "output_type": "execute_result"
    }
   ],
   "source": [
    "test = pd.read_csv('AirbnbTest.csv')\n",
    "test.head()"
   ]
  },
  {
   "cell_type": "code",
   "execution_count": 5,
   "id": "a7d58baf-b4b9-4379-b51c-b6a9fd8c6122",
   "metadata": {
    "tags": []
   },
   "outputs": [
    {
     "data": {
      "text/plain": [
       "(699, 13)"
      ]
     },
     "execution_count": 5,
     "metadata": {},
     "output_type": "execute_result"
    }
   ],
   "source": [
    "test.shape"
   ]
  },
  {
   "cell_type": "markdown",
   "id": "a298c92f-9a3f-4918-9556-ac4a3e780ef6",
   "metadata": {},
   "source": [
    "### Question1\n",
    "\n",
    "**Model 1. Formulate the least absolute deviations regression problem as a linear program. Solve the linear program using the data given in the file AirbnbTrain.csv. What is the prediction error, in $/night, of your model on the test set (provided in AirbnbTest.csv)**"
   ]
  },
  {
   "cell_type": "code",
   "execution_count": 6,
   "id": "59c8badf-9fa4-47f0-9e34-be071fd7086c",
   "metadata": {
    "tags": []
   },
   "outputs": [],
   "source": [
    "from gurobipy import *\n",
    "import numpy as np\n",
    "from numpy import genfromtxt\n",
    "import csv"
   ]
  },
  {
   "cell_type": "code",
   "execution_count": 7,
   "id": "8c77eb56-49fb-4074-b920-3dfa7bbf2073",
   "metadata": {
    "tags": []
   },
   "outputs": [],
   "source": [
    "y = train.iloc[:, -1]\n",
    "x = train.iloc[:, :-1]"
   ]
  },
  {
   "cell_type": "code",
   "execution_count": 8,
   "id": "20817d87-f27a-4583-9626-8f67dbb76f2c",
   "metadata": {
    "tags": []
   },
   "outputs": [
    {
     "name": "stdout",
     "output_type": "stream",
     "text": [
      "Set parameter Username\n",
      "Academic license - for non-commercial use only - expires 2025-01-10\n",
      "Gurobi Optimizer version 11.0.0 build v11.0.0rc2 (mac64[arm] - Darwin 22.5.0 22F82)\n",
      "\n",
      "CPU model: Apple M2\n",
      "Thread count: 8 physical cores, 8 logical processors, using up to 8 threads\n",
      "\n",
      "Optimize a model with 3400 rows, 1712 columns and 41372 nonzeros\n",
      "Model fingerprint: 0xcb8b6cd1\n",
      "Coefficient statistics:\n",
      "  Matrix range     [5e-01, 5e+02]\n",
      "  Objective range  [6e-04, 6e-04]\n",
      "  Bounds range     [0e+00, 0e+00]\n",
      "  RHS range        [1e+01, 2e+03]\n",
      "Presolve time: 0.05s\n",
      "Presolved: 3400 rows, 1712 columns, 41372 nonzeros\n",
      "\n",
      "Concurrent LP optimizer: primal simplex, dual simplex, and barrier\n",
      "Showing barrier log only...\n",
      "\n",
      "Ordering time: 0.00s\n",
      "\n",
      "Barrier statistics:\n",
      " Dense cols : 12\n",
      " AA' NZ     : 2.995e+04\n",
      " Factor NZ  : 3.260e+04 (roughly 2 MB of memory)\n",
      " Factor Ops : 4.141e+05 (less than 1 second per iteration)\n",
      " Threads    : 1\n",
      "\n",
      "                  Objective                Residual\n",
      "Iter       Primal          Dual         Primal    Dual     Compl     Time\n",
      "   0   2.13176381e+03  0.00000000e+00  1.36e+03 0.00e+00  2.72e+01     0s\n",
      "   1   1.42686270e+03  1.34119445e+00  0.00e+00 2.37e-04  3.00e+00     0s\n",
      "   2   1.57239143e+02  4.40229493e+00  0.00e+00 6.27e-05  3.18e-01     0s\n",
      "   3   4.71971537e+01  1.62843637e+01  0.00e+00 1.20e-05  6.40e-02     0s\n",
      "   4   3.86444102e+01  3.23128368e+01  0.00e+00 2.78e-17  1.31e-02     0s\n",
      "   5   3.72124774e+01  3.53526314e+01  0.00e+00 2.78e-17  3.84e-03     0s\n",
      "   6   3.66559332e+01  3.61349388e+01  0.00e+00 2.78e-17  1.08e-03     0s\n",
      "   7   3.65009139e+01  3.63156494e+01  0.00e+00 2.78e-17  3.83e-04     0s\n",
      "   8   3.64480314e+01  3.64077685e+01  0.00e+00 2.78e-17  8.32e-05     0s\n",
      "   9   3.64281788e+01  3.64238937e+01  0.00e+00 2.78e-17  8.86e-06     0s\n",
      "  10   3.64263453e+01  3.64258582e+01  0.00e+00 2.78e-17  1.01e-06     0s\n",
      "  11   3.64262531e+01  3.64262432e+01  0.00e+00 8.34e-12  2.06e-08     0s\n",
      "  12   3.64262474e+01  3.64262474e+01  0.00e+00 1.33e-10  2.29e-11     0s\n",
      "\n",
      "Barrier solved model in 12 iterations and 0.12 seconds (0.05 work units)\n",
      "Optimal objective 3.64262474e+01\n",
      "\n",
      "Crossover log...\n",
      "\n",
      "      18 DPushes remaining with DInf 0.0000000e+00                 0s\n",
      "       0 DPushes remaining with DInf 0.0000000e+00                 0s\n",
      "\n",
      "       0 PPushes remaining with PInf 0.0000000e+00                 0s\n",
      "\n",
      "  Push phase complete: Pinf 0.0000000e+00, Dinf 3.4946135e-14      0s\n",
      "\n",
      "\n",
      "Solved with barrier\n",
      "Iteration    Objective       Primal Inf.    Dual Inf.      Time\n",
      "      21    3.6426247e+01   0.000000e+00   0.000000e+00      0s\n",
      "\n",
      "Use crossover to convert LP symmetric solution to basic solution...\n",
      "Crossover log...\n",
      "\n",
      "       0 DPushes remaining with DInf 0.0000000e+00                 0s\n",
      "\n",
      "       0 PPushes remaining with PInf 0.0000000e+00                 0s\n",
      "\n",
      "  Push phase complete: Pinf 0.0000000e+00, Dinf 5.1984948e-14      0s\n",
      "\n",
      "Iteration    Objective       Primal Inf.    Dual Inf.      Time\n",
      "      37    3.6426247e+01   0.000000e+00   0.000000e+00      0s\n",
      "\n",
      "Solved in 37 iterations and 0.14 seconds (0.06 work units)\n",
      "Optimal objective  3.642624740e+01\n"
     ]
    }
   ],
   "source": [
    "# Construct a 'blank' model\n",
    "mod = Model()\n",
    "\n",
    "# Define decision variables\n",
    "b = mod.addVars(12)\n",
    "z = mod.addVars(1700)\n",
    "\n",
    "# construct constraints\n",
    "\n",
    "for i in range(1700):\n",
    "    mod.addConstr(z[i] >= y[i] - sum(b[j]*x.iloc[i,j] for j in range(12)))\n",
    "\n",
    "for i in range(1700):\n",
    "    mod.addConstr(z[i] >= sum(b[j]*x.iloc[i,j] for j in range(12)) - y[i])\n",
    "\n",
    "\n",
    "# Create the objective function, and set it to be minimized\n",
    "mod.setObjective((1/1700)*sum(z[i] for i in range(1700)), GRB.MINIMIZE)\n",
    "\n",
    "mod.update()\n",
    "\n",
    "mod.optimize()"
   ]
  },
  {
   "cell_type": "code",
   "execution_count": 9,
   "id": "bdd33309-e17e-40b5-8d6d-eef85de75012",
   "metadata": {
    "tags": []
   },
   "outputs": [
    {
     "name": "stdout",
     "output_type": "stream",
     "text": [
      "Solved to optimality\n",
      "\n",
      "Optimized Value: 36.426247398213434\n",
      "\n",
      "Beta[0] = 290.2514663518523\n",
      "Beta[1] = 84.03092762130778\n",
      "Beta[2] = 36.78323755553825\n",
      "Beta[3] = 9.936817142125033\n",
      "Beta[4] = 31.69433118878754\n",
      "Beta[5] = 19.703957114478886\n",
      "Beta[6] = 0.0\n",
      "Beta[7] = 0.31061628141023223\n",
      "Beta[8] = 0.0\n",
      "Beta[9] = 0.0\n",
      "Beta[10] = 0.2681158824601272\n",
      "Beta[11] = 5.167454373349817\n"
     ]
    }
   ],
   "source": [
    "# Extract the solution status. \n",
    "if mod.status == GRB.OPTIMAL:\n",
    "    print(\"Solved to optimality\")\n",
    "\n",
    "    # print optimized value obtained at the optimal solution\n",
    "    print(f\"\\nOptimized Value: {mod.objval}\\n\")\n",
    "\n",
    "    for j in range(12):\n",
    "        print(f'Beta[{j}] = {b[j].X}')"
   ]
  },
  {
   "cell_type": "code",
   "execution_count": 10,
   "id": "3d4bf780-7074-49bf-84f8-503e77ef9f7a",
   "metadata": {
    "tags": []
   },
   "outputs": [],
   "source": [
    "y_test = test.iloc[:, -1]\n",
    "x_test = test.iloc[:, :-1]"
   ]
  },
  {
   "cell_type": "code",
   "execution_count": 11,
   "id": "007d6a4c-ea81-4295-9236-8fa98882dfc0",
   "metadata": {
    "tags": []
   },
   "outputs": [],
   "source": [
    "pred_x = [sum(b[j].X * x_test.iloc[i, j] for j in range(12)) for i in range(699)]"
   ]
  },
  {
   "cell_type": "code",
   "execution_count": 12,
   "id": "d1dbd9e6-4525-4dff-9239-b006aa6cb21c",
   "metadata": {
    "tags": []
   },
   "outputs": [
    {
     "data": {
      "text/plain": [
       "35.604535030377846"
      ]
     },
     "execution_count": 12,
     "metadata": {},
     "output_type": "execute_result"
    }
   ],
   "source": [
    "error = (1/699)*sum(abs(y_test.iloc[i] - pred_x[i]) for i in range(699))\n",
    "\n",
    "error"
   ]
  },
  {
   "cell_type": "markdown",
   "id": "42b114a2-6e49-44e0-af47-916de3789809",
   "metadata": {},
   "source": [
    "**The prediction error of model 1 on the test set  is $35.6/night.**"
   ]
  },
  {
   "cell_type": "markdown",
   "id": "968cc0fd-c5c0-4fe1-818d-d81d2517514a",
   "metadata": {},
   "source": [
    "### Question 2\n",
    "\n",
    "**Model 2. Suppose that to improve interpretability, you wish to build a model that predicts Airbnb prices using only the three most important variables. Modify Model 1 by including a constraint that allows at most three variables to have non-zero coefficients.**"
   ]
  },
  {
   "cell_type": "code",
   "execution_count": 13,
   "id": "bbbaf8d5-df74-4972-93a0-aad68efa6811",
   "metadata": {
    "tags": []
   },
   "outputs": [
    {
     "name": "stdout",
     "output_type": "stream",
     "text": [
      "Gurobi Optimizer version 11.0.0 build v11.0.0rc2 (mac64[arm] - Darwin 22.5.0 22F82)\n",
      "\n",
      "CPU model: Apple M2\n",
      "Thread count: 8 physical cores, 8 logical processors, using up to 8 threads\n",
      "\n",
      "Optimize a model with 3425 rows, 1724 columns and 41432 nonzeros\n",
      "Model fingerprint: 0x3def90f5\n",
      "Variable types: 1712 continuous, 12 integer (12 binary)\n",
      "Coefficient statistics:\n",
      "  Matrix range     [5e-01, 1e+04]\n",
      "  Objective range  [6e-04, 6e-04]\n",
      "  Bounds range     [1e+00, 1e+00]\n",
      "  RHS range        [3e+00, 2e+03]\n",
      "Found heuristic solution: objective 144.9682353\n",
      "Presolve removed 840 rows and 414 columns\n",
      "Presolve time: 0.04s\n",
      "Presolved: 2585 rows, 1310 columns, 31274 nonzeros\n",
      "Variable types: 1298 continuous, 12 integer (12 binary)\n",
      "\n",
      "Root relaxation: objective 3.642625e+01, 1419 iterations, 0.19 seconds (0.34 work units)\n",
      "\n",
      "    Nodes    |    Current Node    |     Objective Bounds      |     Work\n",
      " Expl Unexpl |  Obj  Depth IntInf | Incumbent    BestBd   Gap | It/Node Time\n",
      "\n",
      "     0     0   36.42625    0    7  144.96824   36.42625  74.9%     -    0s\n",
      "H    0     0                      98.0029571   36.42625  62.8%     -    0s\n",
      "H    0     0                      61.6243748   36.42625  40.9%     -    0s\n",
      "     0     0   36.42625    0   10   61.62437   36.42625  40.9%     -    0s\n",
      "H    0     0                      44.5170588   36.42625  18.2%     -    0s\n",
      "     0     0   36.42872    0   10   44.51706   36.42872  18.2%     -    0s\n",
      "     0     0   36.43906    0   11   44.51706   36.43906  18.1%     -    0s\n",
      "     0     0   36.45828    0   11   44.51706   36.45828  18.1%     -    0s\n",
      "H    0     0                      39.6076471   36.45828  7.95%     -    0s\n",
      "     0     0   37.23770    0   11   39.60765   37.23770  5.98%     -    0s\n",
      "     0     0   37.24576    0   10   39.60765   37.24576  5.96%     -    0s\n",
      "     0     0   37.25158    0   11   39.60765   37.25158  5.95%     -    0s\n",
      "     0     0   37.26238    0   10   39.60765   37.26238  5.92%     -    0s\n",
      "H    0     0                      38.3388235   37.26238  2.81%     -    0s\n",
      "     0     0   37.99804    0   10   38.33882   37.99804  0.89%     -    0s\n",
      "     0     0   37.99865    0   10   38.33882   37.99865  0.89%     -    0s\n",
      "\n",
      "Cutting planes:\n",
      "  Gomory: 2\n",
      "  MIR: 10\n",
      "  Flow cover: 46\n",
      "\n",
      "Explored 1 nodes (1647 simplex iterations) in 0.88 seconds (0.96 work units)\n",
      "Thread count was 8 (of 8 available processors)\n",
      "\n",
      "Solution count 6: 38.3388 39.6076 44.5171 ... 144.968\n",
      "\n",
      "Optimal solution found (tolerance 1.00e-04)\n",
      "Best objective 3.833882352941e+01, best bound 3.833882352941e+01, gap 0.0000%\n"
     ]
    }
   ],
   "source": [
    "# Construct a 'blank' model\n",
    "mod = Model()\n",
    "\n",
    "# Define decision variables\n",
    "b = mod.addVars(12)\n",
    "z = mod.addVars(1700)\n",
    "s = mod.addVars(12, vtype = GRB.BINARY)\n",
    "\n",
    "# construct constraints\n",
    "\n",
    "for i in range(1700):\n",
    "    mod.addConstr(z[i] >= y[i] - sum(b[j]*x.iloc[i,j] for j in range(12)))\n",
    "\n",
    "for i in range(1700):\n",
    "    mod.addConstr(z[i] >= sum(b[j]*x.iloc[i,j] for j in range(12)) - y[i])\n",
    "\n",
    "# Add constriaint\n",
    "mod.addConstr(sum(s[j] for j in range(12)) <= 3)\n",
    "\n",
    "for j in range(12):\n",
    "    mod.addConstr(10000*s[j] >= b[j])\n",
    "    mod.addConstr(-10000*s[j] <= b[j])\n",
    "\n",
    "\n",
    "# Create the objective function, and set it to be minimized\n",
    "mod.setObjective((1/1700)*sum(z[i] for i in range(1700)), GRB.MINIMIZE)\n",
    "\n",
    "mod.update()\n",
    "\n",
    "mod.optimize()"
   ]
  },
  {
   "cell_type": "markdown",
   "id": "cf30b33a-14a1-4921-803a-e8177c94f88c",
   "metadata": {},
   "source": [
    "**a) List the names and coefficients of the three variables selected by the optimization model.**"
   ]
  },
  {
   "cell_type": "code",
   "execution_count": 14,
   "id": "0f124830-46d7-409e-a884-23d5bfc7d337",
   "metadata": {
    "tags": []
   },
   "outputs": [
    {
     "name": "stdout",
     "output_type": "stream",
     "text": [
      "Solved to optimality\n",
      "\n",
      "Optimized Value: 38.33882352941181\n",
      "\n",
      "Name: Entire home , beta: 52.0\n",
      "Name: accommodates , beta: 14.0\n",
      "Name: bedrooms , beta: 32.0\n"
     ]
    }
   ],
   "source": [
    "# Extract the solution status. \n",
    "if mod.status == GRB.OPTIMAL:\n",
    "    print(\"Solved to optimality\")\n",
    "\n",
    "    # print optimized value obtained at the optimal solution\n",
    "    print(f\"\\nOptimized Value: {mod.objval}\\n\")\n",
    "\n",
    "    for j in range(12):\n",
    "        if b[j].X != 0:\n",
    "            print(f'Name:', train.columns[j],f', beta: {b[j].X}')"
   ]
  },
  {
   "cell_type": "markdown",
   "id": "4c9f3594-a7ca-4c3c-a887-f0abcc2ff02f",
   "metadata": {},
   "source": [
    "**b) What is the new prediction error, in $/night, of Model 2**"
   ]
  },
  {
   "cell_type": "code",
   "execution_count": 15,
   "id": "7ab1c866-7676-4b22-8dda-5cb402ff032e",
   "metadata": {
    "tags": []
   },
   "outputs": [],
   "source": [
    "pred_x = [sum(b[j].X * x_test.iloc[i, j] for j in range(12)) for i in range(699)]"
   ]
  },
  {
   "cell_type": "code",
   "execution_count": 16,
   "id": "9134fd61-7928-41fd-815b-c63d323f97b4",
   "metadata": {
    "tags": []
   },
   "outputs": [
    {
     "data": {
      "text/plain": [
       "37.73676680972818"
      ]
     },
     "execution_count": 16,
     "metadata": {},
     "output_type": "execute_result"
    }
   ],
   "source": [
    "error = (1/699)*sum(abs(y_test.iloc[i] - pred_x[i]) for i in range(699))\n",
    "\n",
    "error"
   ]
  },
  {
   "cell_type": "markdown",
   "id": "759ec739-9579-49ff-a7f1-d621fcf97793",
   "metadata": {},
   "source": [
    "**The prediction error of model 2 on the test set  is $37.74/night.**"
   ]
  },
  {
   "cell_type": "markdown",
   "id": "cf3d0a64-c555-4703-8105-1f888c266609",
   "metadata": {},
   "source": [
    "### Question 3\n",
    "\n",
    "**Model 3. Suppose now you wish to build a model that predicts Airbnb listing price using only three variables, where one of the variables is the number of beds.**"
   ]
  },
  {
   "cell_type": "code",
   "execution_count": 17,
   "id": "58815e1d-86a2-4405-b64c-0e93273730d4",
   "metadata": {
    "tags": []
   },
   "outputs": [
    {
     "name": "stdout",
     "output_type": "stream",
     "text": [
      "Gurobi Optimizer version 11.0.0 build v11.0.0rc2 (mac64[arm] - Darwin 22.5.0 22F82)\n",
      "\n",
      "CPU model: Apple M2\n",
      "Thread count: 8 physical cores, 8 logical processors, using up to 8 threads\n",
      "\n",
      "Optimize a model with 3426 rows, 1724 columns and 41433 nonzeros\n",
      "Model fingerprint: 0xb1cf5923\n",
      "Variable types: 1712 continuous, 12 integer (12 binary)\n",
      "Coefficient statistics:\n",
      "  Matrix range     [5e-01, 1e+04]\n",
      "  Objective range  [6e-04, 6e-04]\n",
      "  Bounds range     [1e+00, 1e+00]\n",
      "  RHS range        [1e+00, 2e+03]\n",
      "Found heuristic solution: objective 144.9682353\n",
      "Presolve removed 842 rows and 415 columns\n",
      "Presolve time: 0.10s\n",
      "Presolved: 2584 rows, 1309 columns, 31271 nonzeros\n",
      "Variable types: 1298 continuous, 11 integer (11 binary)\n",
      "\n",
      "Root relaxation: objective 3.642625e+01, 1391 iterations, 0.37 seconds (0.32 work units)\n",
      "\n",
      "    Nodes    |    Current Node    |     Objective Bounds      |     Work\n",
      " Expl Unexpl |  Obj  Depth IntInf | Incumbent    BestBd   Gap | It/Node Time\n",
      "\n",
      "     0     0   36.42625    0    8  144.96824   36.42625  74.9%     -    0s\n",
      "H    0     0                      48.6558384   36.42625  25.1%     -    0s\n",
      "H    0     0                      48.6456459   36.42625  25.1%     -    0s\n",
      "H    0     0                      44.5017647   36.42625  18.1%     -    0s\n",
      "H    0     0                      40.0730147   36.88065  7.97%     -    1s\n",
      "     0     0   36.88643    0   10   40.07301   36.88643  7.95%     -    1s\n",
      "     0     0   37.23770    0   11   40.07301   37.23770  7.08%     -    1s\n",
      "     0     0   37.24576    0   11   40.07301   37.24576  7.06%     -    1s\n",
      "     0     0   38.02971    0   11   40.07301   38.02971  5.10%     -    1s\n",
      "     0     0   38.10574    0   11   40.07301   38.10574  4.91%     -    1s\n",
      "     0     0   38.72310    0   11   40.07301   38.72310  3.37%     -    1s\n",
      "\n",
      "Cutting planes:\n",
      "  Gomory: 3\n",
      "  MIR: 14\n",
      "  Flow cover: 64\n",
      "\n",
      "Explored 1 nodes (1563 simplex iterations) in 2.05 seconds (1.01 work units)\n",
      "Thread count was 8 (of 8 available processors)\n",
      "\n",
      "Solution count 5: 40.073 44.5018 48.6456 ... 144.968\n",
      "\n",
      "Optimal solution found (tolerance 1.00e-04)\n",
      "Best objective 4.007301470588e+01, best bound 4.007301470588e+01, gap 0.0000%\n"
     ]
    }
   ],
   "source": [
    "# Construct a 'blank' model\n",
    "mod = Model()\n",
    "\n",
    "# Define decision variables\n",
    "b = mod.addVars(12)\n",
    "z = mod.addVars(1700)\n",
    "s = mod.addVars(12, vtype = GRB.BINARY)\n",
    "\n",
    "\n",
    "# construct constraints\n",
    "\n",
    "for i in range(1700):\n",
    "    mod.addConstr(z[i] >= y[i] - sum(b[j]*x.iloc[i,j] for j in range(12)))\n",
    "\n",
    "for i in range(1700):\n",
    "    mod.addConstr(z[i] >= sum(b[j]*x.iloc[i,j] for j in range(12)) - y[i])\n",
    "\n",
    "# Add constriaint\n",
    "mod.addConstr(sum(s[i] for i in range(12)) == 3)\n",
    "mod.addConstr(s[6] == 1)\n",
    "\n",
    "for j in range(12):\n",
    "    mod.addConstr(10000*s[j] >= b[j])\n",
    "    mod.addConstr(-10000*s[j] <= b[j])\n",
    "\n",
    "\n",
    "# Create the objective function, and set it to be minimized\n",
    "mod.setObjective((1/1700)*sum(z[i] for i in range(1700)), GRB.MINIMIZE)\n",
    "\n",
    "mod.update()\n",
    "\n",
    "mod.optimize()"
   ]
  },
  {
   "cell_type": "markdown",
   "id": "68459475-a904-4f80-b3d9-300a976ef79d",
   "metadata": {},
   "source": [
    "**a) List the names and coefficients of the two other variables selected by the optimization model.**"
   ]
  },
  {
   "cell_type": "code",
   "execution_count": 18,
   "id": "0112dfd3-59a0-4fb0-925b-e5127f52128d",
   "metadata": {
    "tags": []
   },
   "outputs": [
    {
     "name": "stdout",
     "output_type": "stream",
     "text": [
      "Solved to optimality\n",
      "\n",
      "Optimized Value: 40.073014705882386\n",
      "\n",
      "Name: Entire home , coefficient: 67.875\n",
      "Name: bedrooms , coefficient: 47.375\n",
      "Name: beds , coefficient: 12.125\n"
     ]
    }
   ],
   "source": [
    "# Extract the solution status. \n",
    "if mod.status == GRB.OPTIMAL:\n",
    "    print(\"Solved to optimality\")\n",
    "\n",
    "    # print optimized value obtained at the optimal solution\n",
    "    print(f\"\\nOptimized Value: {mod.objval}\\n\")\n",
    "\n",
    "    for j in range(12):\n",
    "        if b[j].X != 0:\n",
    "            print(f'Name:', train.columns[j],f', coefficient: {b[j].X}')"
   ]
  },
  {
   "cell_type": "markdown",
   "id": "5813d046-6c5f-43e7-85c8-f0c94ee83f18",
   "metadata": {},
   "source": [
    "The other two variables are Entire home and bedrooms. "
   ]
  },
  {
   "cell_type": "markdown",
   "id": "db28f439-07e5-4e38-9bdc-95b1c8da5861",
   "metadata": {},
   "source": [
    "**b) Which variable was in Model 2 but is no longer in Model 3? Briefly explain in 1-2 sentences why this variable might have been dropped.**"
   ]
  },
  {
   "cell_type": "markdown",
   "id": "e3afa7ff-1f8e-4b0d-aba6-d38440ac38c9",
   "metadata": {},
   "source": [
    "Since the correlation between 'accommodates' and 'the number of beds' is highly significant (0.714887), Model 3 requires the inclusion of 'the number of beds' as one of its three features. Therefore, the model will choose not to include 'accommodates' to avoid multicollinearity, opting instead for two other variables that, despite having lower correlations, significantly contribute to the Airbnb listing price."
   ]
  },
  {
   "cell_type": "code",
   "execution_count": 19,
   "id": "1cdf8b14-ca7c-40eb-b8c9-6677d970a9a3",
   "metadata": {
    "tags": []
   },
   "outputs": [
    {
     "data": {
      "text/html": [
       "<div>\n",
       "<style scoped>\n",
       "    .dataframe tbody tr th:only-of-type {\n",
       "        vertical-align: middle;\n",
       "    }\n",
       "\n",
       "    .dataframe tbody tr th {\n",
       "        vertical-align: top;\n",
       "    }\n",
       "\n",
       "    .dataframe thead th {\n",
       "        text-align: right;\n",
       "    }\n",
       "</style>\n",
       "<table border=\"1\" class=\"dataframe\">\n",
       "  <thead>\n",
       "    <tr style=\"text-align: right;\">\n",
       "      <th></th>\n",
       "      <th>latitude</th>\n",
       "      <th>longitude</th>\n",
       "      <th>Entire home</th>\n",
       "      <th>accommodates</th>\n",
       "      <th>bathrooms</th>\n",
       "      <th>bedrooms</th>\n",
       "      <th>beds</th>\n",
       "      <th>cleaning_fee</th>\n",
       "      <th>minimum_nights</th>\n",
       "      <th>number_of_reviews</th>\n",
       "      <th>review_scores_rating</th>\n",
       "      <th>instant_bookable</th>\n",
       "      <th>price</th>\n",
       "    </tr>\n",
       "  </thead>\n",
       "  <tbody>\n",
       "    <tr>\n",
       "      <th>latitude</th>\n",
       "      <td>1.000000</td>\n",
       "      <td>-0.146861</td>\n",
       "      <td>0.155917</td>\n",
       "      <td>0.092906</td>\n",
       "      <td>-0.104603</td>\n",
       "      <td>-0.092728</td>\n",
       "      <td>0.084267</td>\n",
       "      <td>0.021063</td>\n",
       "      <td>-0.024054</td>\n",
       "      <td>0.018956</td>\n",
       "      <td>-0.052867</td>\n",
       "      <td>0.147250</td>\n",
       "      <td>0.017187</td>\n",
       "    </tr>\n",
       "    <tr>\n",
       "      <th>longitude</th>\n",
       "      <td>-0.146861</td>\n",
       "      <td>1.000000</td>\n",
       "      <td>-0.061369</td>\n",
       "      <td>-0.073256</td>\n",
       "      <td>-0.068875</td>\n",
       "      <td>-0.076943</td>\n",
       "      <td>-0.079002</td>\n",
       "      <td>-0.180739</td>\n",
       "      <td>-0.104919</td>\n",
       "      <td>-0.033092</td>\n",
       "      <td>-0.062512</td>\n",
       "      <td>-0.020672</td>\n",
       "      <td>-0.147224</td>\n",
       "    </tr>\n",
       "    <tr>\n",
       "      <th>Entire home</th>\n",
       "      <td>0.155917</td>\n",
       "      <td>-0.061369</td>\n",
       "      <td>1.000000</td>\n",
       "      <td>0.387529</td>\n",
       "      <td>0.064571</td>\n",
       "      <td>0.064114</td>\n",
       "      <td>0.163433</td>\n",
       "      <td>0.407221</td>\n",
       "      <td>0.044382</td>\n",
       "      <td>-0.013460</td>\n",
       "      <td>-0.086006</td>\n",
       "      <td>0.098798</td>\n",
       "      <td>0.298168</td>\n",
       "    </tr>\n",
       "    <tr>\n",
       "      <th>accommodates</th>\n",
       "      <td>0.092906</td>\n",
       "      <td>-0.073256</td>\n",
       "      <td>0.387529</td>\n",
       "      <td>1.000000</td>\n",
       "      <td>0.603855</td>\n",
       "      <td>0.712638</td>\n",
       "      <td>0.714887</td>\n",
       "      <td>0.548043</td>\n",
       "      <td>-0.139038</td>\n",
       "      <td>0.013333</td>\n",
       "      <td>-0.056631</td>\n",
       "      <td>0.226832</td>\n",
       "      <td>0.592929</td>\n",
       "    </tr>\n",
       "    <tr>\n",
       "      <th>bathrooms</th>\n",
       "      <td>-0.104603</td>\n",
       "      <td>-0.068875</td>\n",
       "      <td>0.064571</td>\n",
       "      <td>0.603855</td>\n",
       "      <td>1.000000</td>\n",
       "      <td>0.735774</td>\n",
       "      <td>0.546788</td>\n",
       "      <td>0.489532</td>\n",
       "      <td>-0.091059</td>\n",
       "      <td>-0.019455</td>\n",
       "      <td>0.020201</td>\n",
       "      <td>0.089440</td>\n",
       "      <td>0.599028</td>\n",
       "    </tr>\n",
       "    <tr>\n",
       "      <th>bedrooms</th>\n",
       "      <td>-0.092728</td>\n",
       "      <td>-0.076943</td>\n",
       "      <td>0.064114</td>\n",
       "      <td>0.712638</td>\n",
       "      <td>0.735774</td>\n",
       "      <td>1.000000</td>\n",
       "      <td>0.565229</td>\n",
       "      <td>0.502950</td>\n",
       "      <td>-0.111259</td>\n",
       "      <td>0.026365</td>\n",
       "      <td>0.053890</td>\n",
       "      <td>0.105767</td>\n",
       "      <td>0.601706</td>\n",
       "    </tr>\n",
       "    <tr>\n",
       "      <th>beds</th>\n",
       "      <td>0.084267</td>\n",
       "      <td>-0.079002</td>\n",
       "      <td>0.163433</td>\n",
       "      <td>0.714887</td>\n",
       "      <td>0.546788</td>\n",
       "      <td>0.565229</td>\n",
       "      <td>1.000000</td>\n",
       "      <td>0.351499</td>\n",
       "      <td>-0.130375</td>\n",
       "      <td>-0.013726</td>\n",
       "      <td>-0.090479</td>\n",
       "      <td>0.209118</td>\n",
       "      <td>0.395760</td>\n",
       "    </tr>\n",
       "    <tr>\n",
       "      <th>cleaning_fee</th>\n",
       "      <td>0.021063</td>\n",
       "      <td>-0.180739</td>\n",
       "      <td>0.407221</td>\n",
       "      <td>0.548043</td>\n",
       "      <td>0.489532</td>\n",
       "      <td>0.502950</td>\n",
       "      <td>0.351499</td>\n",
       "      <td>1.000000</td>\n",
       "      <td>0.265867</td>\n",
       "      <td>-0.081668</td>\n",
       "      <td>0.010097</td>\n",
       "      <td>-0.033599</td>\n",
       "      <td>0.632186</td>\n",
       "    </tr>\n",
       "    <tr>\n",
       "      <th>minimum_nights</th>\n",
       "      <td>-0.024054</td>\n",
       "      <td>-0.104919</td>\n",
       "      <td>0.044382</td>\n",
       "      <td>-0.139038</td>\n",
       "      <td>-0.091059</td>\n",
       "      <td>-0.111259</td>\n",
       "      <td>-0.130375</td>\n",
       "      <td>0.265867</td>\n",
       "      <td>1.000000</td>\n",
       "      <td>-0.124261</td>\n",
       "      <td>-0.005363</td>\n",
       "      <td>-0.214826</td>\n",
       "      <td>-0.064613</td>\n",
       "    </tr>\n",
       "    <tr>\n",
       "      <th>number_of_reviews</th>\n",
       "      <td>0.018956</td>\n",
       "      <td>-0.033092</td>\n",
       "      <td>-0.013460</td>\n",
       "      <td>0.013333</td>\n",
       "      <td>-0.019455</td>\n",
       "      <td>0.026365</td>\n",
       "      <td>-0.013726</td>\n",
       "      <td>-0.081668</td>\n",
       "      <td>-0.124261</td>\n",
       "      <td>1.000000</td>\n",
       "      <td>0.014055</td>\n",
       "      <td>0.094750</td>\n",
       "      <td>-0.037913</td>\n",
       "    </tr>\n",
       "    <tr>\n",
       "      <th>review_scores_rating</th>\n",
       "      <td>-0.052867</td>\n",
       "      <td>-0.062512</td>\n",
       "      <td>-0.086006</td>\n",
       "      <td>-0.056631</td>\n",
       "      <td>0.020201</td>\n",
       "      <td>0.053890</td>\n",
       "      <td>-0.090479</td>\n",
       "      <td>0.010097</td>\n",
       "      <td>-0.005363</td>\n",
       "      <td>0.014055</td>\n",
       "      <td>1.000000</td>\n",
       "      <td>-0.064802</td>\n",
       "      <td>0.032875</td>\n",
       "    </tr>\n",
       "    <tr>\n",
       "      <th>instant_bookable</th>\n",
       "      <td>0.147250</td>\n",
       "      <td>-0.020672</td>\n",
       "      <td>0.098798</td>\n",
       "      <td>0.226832</td>\n",
       "      <td>0.089440</td>\n",
       "      <td>0.105767</td>\n",
       "      <td>0.209118</td>\n",
       "      <td>-0.033599</td>\n",
       "      <td>-0.214826</td>\n",
       "      <td>0.094750</td>\n",
       "      <td>-0.064802</td>\n",
       "      <td>1.000000</td>\n",
       "      <td>0.078106</td>\n",
       "    </tr>\n",
       "    <tr>\n",
       "      <th>price</th>\n",
       "      <td>0.017187</td>\n",
       "      <td>-0.147224</td>\n",
       "      <td>0.298168</td>\n",
       "      <td>0.592929</td>\n",
       "      <td>0.599028</td>\n",
       "      <td>0.601706</td>\n",
       "      <td>0.395760</td>\n",
       "      <td>0.632186</td>\n",
       "      <td>-0.064613</td>\n",
       "      <td>-0.037913</td>\n",
       "      <td>0.032875</td>\n",
       "      <td>0.078106</td>\n",
       "      <td>1.000000</td>\n",
       "    </tr>\n",
       "  </tbody>\n",
       "</table>\n",
       "</div>"
      ],
      "text/plain": [
       "                      latitude  longitude  Entire home  accommodates  \\\n",
       "latitude              1.000000  -0.146861     0.155917      0.092906   \n",
       "longitude            -0.146861   1.000000    -0.061369     -0.073256   \n",
       "Entire home           0.155917  -0.061369     1.000000      0.387529   \n",
       "accommodates          0.092906  -0.073256     0.387529      1.000000   \n",
       "bathrooms            -0.104603  -0.068875     0.064571      0.603855   \n",
       "bedrooms             -0.092728  -0.076943     0.064114      0.712638   \n",
       "beds                  0.084267  -0.079002     0.163433      0.714887   \n",
       "cleaning_fee          0.021063  -0.180739     0.407221      0.548043   \n",
       "minimum_nights       -0.024054  -0.104919     0.044382     -0.139038   \n",
       "number_of_reviews     0.018956  -0.033092    -0.013460      0.013333   \n",
       "review_scores_rating -0.052867  -0.062512    -0.086006     -0.056631   \n",
       "instant_bookable      0.147250  -0.020672     0.098798      0.226832   \n",
       "price                 0.017187  -0.147224     0.298168      0.592929   \n",
       "\n",
       "                      bathrooms  bedrooms      beds  cleaning_fee  \\\n",
       "latitude              -0.104603 -0.092728  0.084267      0.021063   \n",
       "longitude             -0.068875 -0.076943 -0.079002     -0.180739   \n",
       "Entire home            0.064571  0.064114  0.163433      0.407221   \n",
       "accommodates           0.603855  0.712638  0.714887      0.548043   \n",
       "bathrooms              1.000000  0.735774  0.546788      0.489532   \n",
       "bedrooms               0.735774  1.000000  0.565229      0.502950   \n",
       "beds                   0.546788  0.565229  1.000000      0.351499   \n",
       "cleaning_fee           0.489532  0.502950  0.351499      1.000000   \n",
       "minimum_nights        -0.091059 -0.111259 -0.130375      0.265867   \n",
       "number_of_reviews     -0.019455  0.026365 -0.013726     -0.081668   \n",
       "review_scores_rating   0.020201  0.053890 -0.090479      0.010097   \n",
       "instant_bookable       0.089440  0.105767  0.209118     -0.033599   \n",
       "price                  0.599028  0.601706  0.395760      0.632186   \n",
       "\n",
       "                      minimum_nights  number_of_reviews  review_scores_rating  \\\n",
       "latitude                   -0.024054           0.018956             -0.052867   \n",
       "longitude                  -0.104919          -0.033092             -0.062512   \n",
       "Entire home                 0.044382          -0.013460             -0.086006   \n",
       "accommodates               -0.139038           0.013333             -0.056631   \n",
       "bathrooms                  -0.091059          -0.019455              0.020201   \n",
       "bedrooms                   -0.111259           0.026365              0.053890   \n",
       "beds                       -0.130375          -0.013726             -0.090479   \n",
       "cleaning_fee                0.265867          -0.081668              0.010097   \n",
       "minimum_nights              1.000000          -0.124261             -0.005363   \n",
       "number_of_reviews          -0.124261           1.000000              0.014055   \n",
       "review_scores_rating       -0.005363           0.014055              1.000000   \n",
       "instant_bookable           -0.214826           0.094750             -0.064802   \n",
       "price                      -0.064613          -0.037913              0.032875   \n",
       "\n",
       "                      instant_bookable     price  \n",
       "latitude                      0.147250  0.017187  \n",
       "longitude                    -0.020672 -0.147224  \n",
       "Entire home                   0.098798  0.298168  \n",
       "accommodates                  0.226832  0.592929  \n",
       "bathrooms                     0.089440  0.599028  \n",
       "bedrooms                      0.105767  0.601706  \n",
       "beds                          0.209118  0.395760  \n",
       "cleaning_fee                 -0.033599  0.632186  \n",
       "minimum_nights               -0.214826 -0.064613  \n",
       "number_of_reviews             0.094750 -0.037913  \n",
       "review_scores_rating         -0.064802  0.032875  \n",
       "instant_bookable              1.000000  0.078106  \n",
       "price                         0.078106  1.000000  "
      ]
     },
     "execution_count": 19,
     "metadata": {},
     "output_type": "execute_result"
    }
   ],
   "source": [
    "train.corr()"
   ]
  },
  {
   "cell_type": "markdown",
   "id": "b3b2e0bc-ea6f-47ed-aab6-59acfa8bc199",
   "metadata": {},
   "source": [
    "**c) What is the new prediction error, in $/night, of Model 3**"
   ]
  },
  {
   "cell_type": "code",
   "execution_count": 20,
   "id": "32dc7a75-132b-4009-917c-8b67ddc9a15e",
   "metadata": {
    "tags": []
   },
   "outputs": [],
   "source": [
    "pred_x = [sum(b[j].X * x_test.iloc[i, j] for j in range(12)) for i in range(699)]"
   ]
  },
  {
   "cell_type": "code",
   "execution_count": 21,
   "id": "9d0085f2-0781-4e52-889a-5f68336a2c62",
   "metadata": {
    "tags": []
   },
   "outputs": [
    {
     "data": {
      "text/plain": [
       "38.59960658082976"
      ]
     },
     "execution_count": 21,
     "metadata": {},
     "output_type": "execute_result"
    }
   ],
   "source": [
    "error = (1/699)*sum(abs(y_test.iloc[i] - pred_x[i]) for i in range(699))\n",
    "\n",
    "error"
   ]
  },
  {
   "cell_type": "markdown",
   "id": "c790c202-2bea-4212-97b1-02a1c44d4cab",
   "metadata": {},
   "source": [
    "**The prediction error of model 3 on the test set  is $38.60/night.**"
   ]
  },
  {
   "cell_type": "code",
   "execution_count": null,
   "id": "f67a8572-7d01-45f4-859a-0e63bde7d13d",
   "metadata": {},
   "outputs": [],
   "source": []
  }
 ],
 "metadata": {
  "kernelspec": {
   "display_name": "Python 3 (ipykernel)",
   "language": "python",
   "name": "python3"
  },
  "language_info": {
   "codemirror_mode": {
    "name": "ipython",
    "version": 3
   },
   "file_extension": ".py",
   "mimetype": "text/x-python",
   "name": "python",
   "nbconvert_exporter": "python",
   "pygments_lexer": "ipython3",
   "version": "3.10.12"
  }
 },
 "nbformat": 4,
 "nbformat_minor": 5
}
