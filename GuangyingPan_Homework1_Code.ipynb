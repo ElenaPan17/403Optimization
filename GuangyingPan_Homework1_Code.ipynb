{
 "cells": [
  {
   "cell_type": "markdown",
   "id": "7ad4f34d-ba63-4edc-a4ab-f987daec2c7a",
   "metadata": {},
   "source": [
    "# MGMTMSA 408 – Operations Analytics"
   ]
  },
  {
   "cell_type": "markdown",
   "id": "3dbc3c43-dd3a-440c-b85a-1eb3de795a28",
   "metadata": {},
   "source": [
    "## Homework 1 – LP Duality and Revenue Management"
   ]
  },
  {
   "cell_type": "markdown",
   "id": "5da1e78a-8731-46cf-8d88-8f7efe84fa6d",
   "metadata": {},
   "source": [
    "Guangying Pan 006309837"
   ]
  },
  {
   "cell_type": "markdown",
   "id": "a1b71af7-4ba5-4ef2-902f-308712b7212c",
   "metadata": {},
   "source": [
    "### Q1 Semiconductor Manufacturing"
   ]
  },
  {
   "cell_type": "markdown",
   "id": "b56682c8-8da8-4a29-af10-a7990f87e7ee",
   "metadata": {},
   "source": [
    "#### Part 1 The plant is interested in deciding how much to produce of each type of chip, so as to maximize its revenue."
   ]
  },
  {
   "cell_type": "markdown",
   "id": "8ba925fd-d07c-4316-b59a-5a92ec045da4",
   "metadata": {
    "tags": []
   },
   "source": [
    "**a) Formulate the production problem as a linear program. What are the decision variables? What is the objective function? What are the constraints?**"
   ]
  },
  {
   "cell_type": "code",
   "execution_count": 1,
   "id": "f0dc0203-2a10-450d-8d96-abe8f56dcea1",
   "metadata": {
    "tags": []
   },
   "outputs": [],
   "source": [
    "from gurobipy import *"
   ]
  },
  {
   "cell_type": "markdown",
   "id": "f58d002c-148d-401a-8bdf-4d306ef4e0d1",
   "metadata": {
    "tags": []
   },
   "source": [
    "answer sheet"
   ]
  },
  {
   "cell_type": "markdown",
   "id": "a584fd53-8d6a-47e7-9ec2-b4dc02dfa7df",
   "metadata": {},
   "source": [
    "**b) Implement your linear program in Python using Gurobi. What is the optimal objective value?**"
   ]
  },
  {
   "cell_type": "code",
   "execution_count": 2,
   "id": "7c03da6a-b2f2-4d8d-9d03-82c3f2bb4b92",
   "metadata": {
    "tags": []
   },
   "outputs": [
    {
     "name": "stdout",
     "output_type": "stream",
     "text": [
      "Set parameter Username\n",
      "Academic license - for non-commercial use only - expires 2025-01-10\n"
     ]
    }
   ],
   "source": [
    "# Create the model. \n",
    "m = Model()\n",
    "\n",
    "# Add the variables. \n",
    "# addVar() will just add a single variable.\n",
    "x_1 = m.addVar()\n",
    "x_2 = m.addVar()\n",
    "x_3 = m.addVar()\n",
    "\n",
    "# Create the constraints. \n",
    "# Resource constraints:\n",
    "ge_constr = m.addConstr( 14*x_1 + 20*x_2 +  40*x_3  <= 300)\n",
    "si_constr =  m.addConstr(30*x_1 + 20 *x_2 +  15 *x_3  <= 200)\n",
    "t_constr =  m.addConstr(  20*x_1 + 30 *x_2 + 50*x_3  <= 18*60)\n",
    "\n",
    "# Nonnegativity constraints:\n",
    "# NB: we can add these explicitly. However, by default, a decision variable Gurobi is initialized\n",
    "# with a lower bound of 0, so we don't need to add these.\n",
    "# m.addConstr(x_B >= 0.0)\n",
    "# m.addConstr(x_C >= 0.0)\n",
    "# m.addConstr(x_M >= 0.0)\n",
    "\n",
    "# Create the objective function.\n",
    "m.setObjective(500*x_1 + 800*x_2 + 1000*x_3, GRB.MAXIMIZE)"
   ]
  },
  {
   "cell_type": "code",
   "execution_count": 3,
   "id": "767bf62b-213a-4de6-971f-1363011e928b",
   "metadata": {
    "tags": []
   },
   "outputs": [
    {
     "name": "stdout",
     "output_type": "stream",
     "text": [
      "Gurobi Optimizer version 11.0.0 build v11.0.0rc2 (mac64[arm] - Darwin 22.5.0 22F82)\n",
      "\n",
      "CPU model: Apple M2\n",
      "Thread count: 8 physical cores, 8 logical processors, using up to 8 threads\n",
      "\n",
      "Optimize a model with 3 rows, 3 columns and 9 nonzeros\n",
      "Model fingerprint: 0xc6454fc5\n",
      "Coefficient statistics:\n",
      "  Matrix range     [1e+01, 5e+01]\n",
      "  Objective range  [5e+02, 1e+03]\n",
      "  Bounds range     [0e+00, 0e+00]\n",
      "  RHS range        [2e+02, 1e+03]\n",
      "Presolve removed 1 rows and 0 columns\n",
      "Presolve time: 0.00s\n",
      "Presolved: 2 rows, 3 columns, 6 nonzeros\n",
      "\n",
      "Iteration    Objective       Primal Inf.    Dual Inf.      Time\n",
      "       0    1.2000000e+04   8.114000e+00   0.000000e+00      0s\n",
      "       2    9.6000000e+03   0.000000e+00   0.000000e+00      0s\n",
      "\n",
      "Solved in 2 iterations and 0.01 seconds (0.00 work units)\n",
      "Optimal objective  9.600000000e+03\n"
     ]
    }
   ],
   "source": [
    "m.update()\n",
    "m.optimize()"
   ]
  },
  {
   "cell_type": "markdown",
   "id": "83309a52-bd54-48f5-9e43-98d94ac754cc",
   "metadata": {},
   "source": [
    "**c) What are the optimal values of the decision variables?**"
   ]
  },
  {
   "cell_type": "code",
   "execution_count": 4,
   "id": "8e656c16-0912-4441-81ed-72cbc5acbc63",
   "metadata": {
    "tags": []
   },
   "outputs": [
    {
     "name": "stdout",
     "output_type": "stream",
     "text": [
      "2\n",
      "Solved to optimality\n",
      "Number of Type 1 Chips:  0.0\n",
      "Number of Type 2 Chips:  7.0\n",
      "Number of Type 3 Chips:  4.0\n",
      "Optimal objective:  9600.0\n"
     ]
    }
   ],
   "source": [
    "# Extract the solution status. \n",
    "status = m.status\n",
    "print(status)\n",
    "if status == GRB.OPTIMAL:\n",
    "    print(\"Solved to optimality\")\n",
    "    \n",
    "# Extract the optimal values of the decision variables.\n",
    "value_1 = x_1.x\n",
    "value_2 = x_2.x\n",
    "value_3 = x_3.x\n",
    "\n",
    "print(\"Number of Type 1 Chips: \", value_1)\n",
    "print(\"Number of Type 2 Chips: \", value_2)\n",
    "print(\"Number of Type 3 Chips: \", value_3)\n",
    "\n",
    "# Extract the optimal objective value.\n",
    "optimal_obj = m.objval\n",
    "print(\"Optimal objective: \", optimal_obj)"
   ]
  },
  {
   "cell_type": "markdown",
   "id": "3b5698ed-a41e-4e92-9fce-4b78e0b46b6f",
   "metadata": {},
   "source": [
    "#### Part 2: Dual Formulation"
   ]
  },
  {
   "cell_type": "markdown",
   "id": "3e55a5e4-982d-4da3-86d8-55e72ea211e8",
   "metadata": {},
   "source": [
    "**a) Write down the dual of the problem in Part 1. What are the decision variables? What is the objective function? What are the constraints?**"
   ]
  },
  {
   "cell_type": "markdown",
   "id": "f2e55775-bc66-4acf-ae3a-00ef7322ace0",
   "metadata": {
    "tags": []
   },
   "source": [
    "answer sheet"
   ]
  },
  {
   "cell_type": "markdown",
   "id": "bdbee1d6-62eb-4198-bf0e-0d794aeddc8b",
   "metadata": {},
   "source": [
    "**b) Implement your dual linear program in Python using Gurobi and solve it. What is the optimal objective value?**"
   ]
  },
  {
   "cell_type": "code",
   "execution_count": 5,
   "id": "784115ff-35e4-4d83-8a13-e2f542eedb25",
   "metadata": {
    "tags": []
   },
   "outputs": [
    {
     "name": "stdout",
     "output_type": "stream",
     "text": [
      "Gurobi Optimizer version 11.0.0 build v11.0.0rc2 (mac64[arm] - Darwin 22.5.0 22F82)\n",
      "\n",
      "CPU model: Apple M2\n",
      "Thread count: 8 physical cores, 8 logical processors, using up to 8 threads\n",
      "\n",
      "Optimize a model with 3 rows, 3 columns and 9 nonzeros\n",
      "Model fingerprint: 0xcdc0bb64\n",
      "Coefficient statistics:\n",
      "  Matrix range     [1e+01, 5e+01]\n",
      "  Objective range  [2e+02, 1e+03]\n",
      "  Bounds range     [0e+00, 0e+00]\n",
      "  RHS range        [5e+02, 1e+03]\n",
      "Presolve removed 0 rows and 1 columns\n",
      "Presolve time: 0.00s\n",
      "Presolved: 3 rows, 2 columns, 6 nonzeros\n",
      "\n",
      "Iteration    Objective       Primal Inf.    Dual Inf.      Time\n",
      "       0    0.0000000e+00   2.875000e+02   0.000000e+00      0s\n",
      "       2    9.6000000e+03   0.000000e+00   0.000000e+00      0s\n",
      "\n",
      "Solved in 2 iterations and 0.00 seconds (0.00 work units)\n",
      "Optimal objective  9.600000000e+03\n"
     ]
    }
   ],
   "source": [
    "m_dual = Model()\n",
    "\n",
    "p_1 = m_dual.addVar()\n",
    "p_2 = m_dual.addVar()\n",
    "p_3 = m_dual.addVar()\n",
    "\n",
    "# Create the dual constraints\n",
    "m_dual.addConstr( 14*p_1 + 30 *p_2 + 20*p_3 >= 500 )\n",
    "m_dual.addConstr( 20*p_1 + 20 *p_2 + 30 * p_3 >= 800 )\n",
    "m_dual.addConstr( 40*p_1 + 15 * p_2 + 50*p_3>= 1000 )\n",
    "\n",
    "m_dual.setObjective( 300 * p_1 + 200 * p_2 + 1080 * p_3, GRB.MINIMIZE)\n",
    "\n",
    "m_dual.update()\n",
    "\n",
    "m_dual.optimize()"
   ]
  },
  {
   "cell_type": "markdown",
   "id": "3783d7ff-9913-47e0-92aa-765c3eb5fe9e",
   "metadata": {
    "tags": []
   },
   "source": [
    "**c) What are the optimal values of the dual variables?**"
   ]
  },
  {
   "cell_type": "code",
   "execution_count": 6,
   "id": "f9390615-1a40-4611-966d-47b7d0902034",
   "metadata": {
    "tags": []
   },
   "outputs": [
    {
     "name": "stdout",
     "output_type": "stream",
     "text": [
      "Dual variable for Ge:  16.0\n",
      "Dual variable for Si:  24.0\n",
      "Dual variable for time:  0.0\n",
      "Dual optimal objective:  9600.0\n"
     ]
    }
   ],
   "source": [
    "p_1_value = p_1.x\n",
    "p_2_value = p_2.x\n",
    "p_3_value = p_3.x\n",
    "\n",
    "print(\"Dual variable for Ge: \", p_1_value)\n",
    "print(\"Dual variable for Si: \", p_2_value)\n",
    "print(\"Dual variable for time: \", p_3_value)\n",
    "\n",
    "# Extract the dual optimal objective value.\n",
    "dual_optimal_obj = m_dual.objval\n",
    "print(\"Dual optimal objective: \", dual_optimal_obj)"
   ]
  },
  {
   "cell_type": "markdown",
   "id": "05b421eb-9f01-4638-b8e6-6ed08751f235",
   "metadata": {},
   "source": [
    "**d) Verify that the optimal values you obtain here are the same as the shadow prices of the constraints in the formulation you implemented in Part 1, which you can access by using the .pi attribute of a Gurobi constraint reference.**"
   ]
  },
  {
   "cell_type": "code",
   "execution_count": 7,
   "id": "b22e2997-ffb6-41bd-90ba-f4f5ca4a3fc8",
   "metadata": {
    "tags": []
   },
   "outputs": [
    {
     "name": "stdout",
     "output_type": "stream",
     "text": [
      "Shadow price for Ge Constraint: 16.0\n",
      "Shadow price for SI Constraint: 24.0\n",
      "Shadow price for time Constraint: 0.0\n"
     ]
    }
   ],
   "source": [
    "print(\"Shadow price for Ge Constraint:\", ge_constr.pi)\n",
    "print(\"Shadow price for SI Constraint:\", si_constr.pi)\n",
    "print(\"Shadow price for time Constraint:\", t_constr.pi)"
   ]
  },
  {
   "cell_type": "markdown",
   "id": "ee122d74-e7d4-4bb4-964b-cd0b9d6009fd",
   "metadata": {
    "tags": []
   },
   "source": [
    "**The optimal values in dual formulation is the same as the shadow prices of the constraints in LP formulation.**"
   ]
  },
  {
   "cell_type": "markdown",
   "id": "85f4ed0b-3af4-41b9-868b-2c2442748391",
   "metadata": {},
   "source": [
    "#### Part 3: Shadow Prices / Marginal Analysis"
   ]
  },
  {
   "cell_type": "markdown",
   "id": "25713f40-2dfc-43d1-836c-aebc0e88ee0f",
   "metadata": {},
   "source": [
    "**a) To increase the plant’s revenue, a plant manager suggests increasing the amount of manufacturing time by 10 hours. Will this change result in an improvement in revenue? Explain your answer.**"
   ]
  },
  {
   "cell_type": "code",
   "execution_count": 8,
   "id": "f01a90f1-b955-4692-a2fa-8b687d95fc40",
   "metadata": {
    "tags": []
   },
   "outputs": [
    {
     "name": "stdout",
     "output_type": "stream",
     "text": [
      "Gurobi Optimizer version 11.0.0 build v11.0.0rc2 (mac64[arm] - Darwin 22.5.0 22F82)\n",
      "\n",
      "CPU model: Apple M2\n",
      "Thread count: 8 physical cores, 8 logical processors, using up to 8 threads\n",
      "\n",
      "Optimize a model with 3 rows, 3 columns and 9 nonzeros\n",
      "Model fingerprint: 0xd472f5a6\n",
      "Coefficient statistics:\n",
      "  Matrix range     [1e+01, 5e+01]\n",
      "  Objective range  [5e+02, 1e+03]\n",
      "  Bounds range     [0e+00, 0e+00]\n",
      "  RHS range        [2e+02, 1e+03]\n",
      "Presolve removed 1 rows and 0 columns\n",
      "Presolve time: 0.00s\n",
      "Presolved: 2 rows, 3 columns, 6 nonzeros\n",
      "\n",
      "Iteration    Objective       Primal Inf.    Dual Inf.      Time\n",
      "       0    1.2000000e+04   8.114000e+00   0.000000e+00      0s\n",
      "       2    9.6000000e+03   0.000000e+00   0.000000e+00      0s\n",
      "\n",
      "Solved in 2 iterations and 0.00 seconds (0.00 work units)\n",
      "Optimal objective  9.600000000e+03\n"
     ]
    }
   ],
   "source": [
    "# Create the model. \n",
    "m = Model()\n",
    "\n",
    "# Add the variables. \n",
    "# addVar() will just add a single variable.\n",
    "x_1 = m.addVar()\n",
    "x_2 = m.addVar()\n",
    "x_3 = m.addVar()\n",
    "\n",
    "# Create the constraints. \n",
    "# Resource constraints:\n",
    "ge_constr = m.addConstr( 14*x_1 + 20*x_2 +  40*x_3  <= 300)\n",
    "si_constr =  m.addConstr(30*x_1 + 20 *x_2 +  15 *x_3  <= 200)\n",
    "t_constr =  m.addConstr(  20*x_1 + 30 *x_2 + 50*x_3  <= 18*60 + 10)\n",
    "\n",
    "# Nonnegativity constraints:\n",
    "# NB: we can add these explicitly. However, by default, a decision variable Gurobi is initialized\n",
    "# with a lower bound of 0, so we don't need to add these.\n",
    "# m.addConstr(x_B >= 0.0)\n",
    "# m.addConstr(x_C >= 0.0)\n",
    "# m.addConstr(x_M >= 0.0)\n",
    "\n",
    "# Create the objective function.\n",
    "m.setObjective(500*x_1 + 800*x_2 + 1000*x_3, GRB.MAXIMIZE)\n",
    "m.update()\n",
    "m.optimize()"
   ]
  },
  {
   "cell_type": "code",
   "execution_count": 9,
   "id": "be0a9efb-d713-4f5a-bafe-14583568e7b3",
   "metadata": {
    "tags": []
   },
   "outputs": [
    {
     "name": "stdout",
     "output_type": "stream",
     "text": [
      "2\n",
      "Solved to optimality\n",
      "Number of Type 1 Chips:  0.0\n",
      "Number of Type 2 Chips:  7.0\n",
      "Number of Type 3 Chips:  4.0\n",
      "Optimal objective:  9600.0\n"
     ]
    }
   ],
   "source": [
    "# Extract the solution status. \n",
    "status = m.status\n",
    "print(status)\n",
    "if status == GRB.OPTIMAL:\n",
    "    print(\"Solved to optimality\")\n",
    "    \n",
    "# Extract the optimal values of the decision variables.\n",
    "value_1 = x_1.x\n",
    "value_2 = x_2.x\n",
    "value_3 = x_3.x\n",
    "\n",
    "print(\"Number of Type 1 Chips: \", value_1)\n",
    "print(\"Number of Type 2 Chips: \", value_2)\n",
    "print(\"Number of Type 3 Chips: \", value_3)\n",
    "\n",
    "# Extract the optimal objective value.\n",
    "optimal_obj = m.objval\n",
    "print(\"Optimal objective: \", optimal_obj)"
   ]
  },
  {
   "cell_type": "markdown",
   "id": "ee627381-c7d8-4d00-be47-368899133e11",
   "metadata": {},
   "source": [
    "**b) A different plant manager proposes increasing the amount of available Ge transistors by 10 billion. Based on the shadow prices/optimal dual variables, what is your prediction of how much the revenue will change from your answer in Part 1-b)?**"
   ]
  },
  {
   "cell_type": "markdown",
   "id": "efc67060-dc31-4a99-bf68-7ec6696080c8",
   "metadata": {
    "tags": []
   },
   "source": [
    "16 * 10 = 160"
   ]
  },
  {
   "cell_type": "markdown",
   "id": "e1ec001d-fe60-4946-b52b-66743ad07bb0",
   "metadata": {},
   "source": [
    "**c) Verify your answer to part b) by solving the primal LP from Part 1 with the right-hand side of the Ge transistor constraint increased by 10.\n",
    "(You can do this by reformulating the problem from scratch with a different right-hand side value for the Ge transistor constraint. Another way is to use the following lines of code:\n",
    "Ge constr.rhs = 310 m.update() m.optimize()\n",
    "where Ge constr is the reference to your Ge constraint, and m is the Gurobi model object. The .rhs attribute of a constraint accesses the right-hand side / constant part of the constraint, allowing you to modify your problem after you have built it.)**\n"
   ]
  },
  {
   "cell_type": "code",
   "execution_count": 10,
   "id": "28cc6e80-84d8-4be9-8618-b143d7ed44b3",
   "metadata": {
    "tags": []
   },
   "outputs": [
    {
     "name": "stdout",
     "output_type": "stream",
     "text": [
      "Gurobi Optimizer version 11.0.0 build v11.0.0rc2 (mac64[arm] - Darwin 22.5.0 22F82)\n",
      "\n",
      "CPU model: Apple M2\n",
      "Thread count: 8 physical cores, 8 logical processors, using up to 8 threads\n",
      "\n",
      "Optimize a model with 3 rows, 3 columns and 9 nonzeros\n",
      "Coefficient statistics:\n",
      "  Matrix range     [1e+01, 5e+01]\n",
      "  Objective range  [5e+02, 1e+03]\n",
      "  Bounds range     [0e+00, 0e+00]\n",
      "  RHS range        [2e+02, 1e+03]\n",
      "LP warm-start: use basis\n",
      "Iteration    Objective       Primal Inf.    Dual Inf.      Time\n",
      "       0    9.7600000e+03   0.000000e+00   0.000000e+00      0s\n",
      "\n",
      "Solved in 0 iterations and 0.00 seconds (0.00 work units)\n",
      "Optimal objective  9.760000000e+03\n"
     ]
    }
   ],
   "source": [
    "ge_constr.rhs = 310 \n",
    "m.update() \n",
    "m.optimize()"
   ]
  },
  {
   "cell_type": "code",
   "execution_count": 11,
   "id": "8b1b182a-35f5-4df0-b99f-56a46a7eacd8",
   "metadata": {
    "tags": []
   },
   "outputs": [
    {
     "name": "stdout",
     "output_type": "stream",
     "text": [
      "2\n",
      "Solved to optimality\n",
      "Number of Type 1 Chips:  0.0\n",
      "Number of Type 2 Chips:  6.7\n",
      "Number of Type 3 Chips:  4.4\n",
      "Optimal objective:  9760.0\n"
     ]
    }
   ],
   "source": [
    "# Extract the solution status. \n",
    "status = m.status\n",
    "print(status)\n",
    "if status == GRB.OPTIMAL:\n",
    "    print(\"Solved to optimality\")\n",
    "    \n",
    "# Extract the optimal values of the decision variables.\n",
    "value_1 = x_1.x\n",
    "value_2 = x_2.x\n",
    "value_3 = x_3.x\n",
    "\n",
    "print(\"Number of Type 1 Chips: \", value_1)\n",
    "print(\"Number of Type 2 Chips: \", value_2)\n",
    "print(\"Number of Type 3 Chips: \", value_3)\n",
    "\n",
    "# Extract the optimal objective value.\n",
    "optimal_obj = m.objval\n",
    "print(\"Optimal objective: \", optimal_obj)"
   ]
  },
  {
   "cell_type": "markdown",
   "id": "5e4c6f6c-28da-4763-8f82-a3f52d52fefe",
   "metadata": {},
   "source": [
    "**d) Suppose now that instead of increasing the amount of available Ge transistors by 10 billion, we consider increasing it by 300 billion. Based on the shadow prices, what is your prediction of how much the objective will change from your answer in Part 1-b)?**"
   ]
  },
  {
   "cell_type": "markdown",
   "id": "48e223a5-ecaf-4370-8707-80dba004bf9b",
   "metadata": {
    "tags": []
   },
   "source": [
    "16 * 300 = 4800"
   ]
  },
  {
   "cell_type": "markdown",
   "id": "a9d6bb23-a4b4-4c8c-a8d8-5971cf1e3627",
   "metadata": {},
   "source": [
    "**e) Check your answer in d) by solving the primal LP from Part 1 with the right-hand side of the Ge constraint increased by 300. What is the change in revenue from your answer in Part 1-b)? (You will find that it is not the same as the value in d).) What explains this discrepancy?**"
   ]
  },
  {
   "cell_type": "code",
   "execution_count": 12,
   "id": "d59dd64c-5900-4103-ae81-2a0b81afa0b4",
   "metadata": {
    "tags": []
   },
   "outputs": [
    {
     "name": "stdout",
     "output_type": "stream",
     "text": [
      "Gurobi Optimizer version 11.0.0 build v11.0.0rc2 (mac64[arm] - Darwin 22.5.0 22F82)\n",
      "\n",
      "CPU model: Apple M2\n",
      "Thread count: 8 physical cores, 8 logical processors, using up to 8 threads\n",
      "\n",
      "Optimize a model with 3 rows, 3 columns and 9 nonzeros\n",
      "Coefficient statistics:\n",
      "  Matrix range     [1e+01, 5e+01]\n",
      "  Objective range  [5e+02, 1e+03]\n",
      "  Bounds range     [0e+00, 0e+00]\n",
      "  RHS range        [2e+02, 5e+03]\n",
      "LP warm-start: use basis\n",
      "Iteration    Objective       Primal Inf.    Dual Inf.      Time\n",
      "       0    8.6400000e+04   1.123000e+03   0.000000e+00      0s\n",
      "       2    1.3333333e+04   0.000000e+00   0.000000e+00      0s\n",
      "\n",
      "Solved in 2 iterations and 0.00 seconds (0.00 work units)\n",
      "Optimal objective  1.333333333e+04\n"
     ]
    }
   ],
   "source": [
    "ge_constr.rhs = 5100\n",
    "m.update() \n",
    "m.optimize()"
   ]
  },
  {
   "cell_type": "code",
   "execution_count": 13,
   "id": "000ee897-41ae-43b8-9aa9-cb3c7be46a7e",
   "metadata": {
    "tags": []
   },
   "outputs": [
    {
     "name": "stdout",
     "output_type": "stream",
     "text": [
      "2\n",
      "Solved to optimality\n",
      "Number of Type 1 Chips:  0.0\n",
      "Number of Type 2 Chips:  0.0\n",
      "Number of Type 3 Chips:  13.333333333333334\n",
      "Optimal objective:  13333.333333333334\n"
     ]
    }
   ],
   "source": [
    "# Extract the solution status. \n",
    "status = m.status\n",
    "print(status)\n",
    "if status == GRB.OPTIMAL:\n",
    "    print(\"Solved to optimality\")\n",
    "    \n",
    "# Extract the optimal values of the decision variables.\n",
    "value_1 = x_1.x\n",
    "value_2 = x_2.x\n",
    "value_3 = x_3.x\n",
    "\n",
    "print(\"Number of Type 1 Chips: \", value_1)\n",
    "print(\"Number of Type 2 Chips: \", value_2)\n",
    "print(\"Number of Type 3 Chips: \", value_3)\n",
    "\n",
    "# Extract the optimal objective value.\n",
    "optimal_obj = m.objval\n",
    "print(\"Optimal objective: \", optimal_obj)"
   ]
  },
  {
   "cell_type": "markdown",
   "id": "e48577ea-a80c-41cb-8191-b1a3db40bda7",
   "metadata": {},
   "source": [
    "**f) Lastly, suppose that instead of increasing only the amount of available Ge transistors, we consider increasing the amount of available Ge transistors by 10 billion and the amount of Si transistors by 20 billion. What is your prediction of the change in the objective from your answer in Part 2-b)?**"
   ]
  },
  {
   "cell_type": "markdown",
   "id": "1f31e3fe-bc63-48cc-b531-d42051365439",
   "metadata": {
    "tags": []
   },
   "source": [
    "16 * 10 + 24 * 20 = 640"
   ]
  },
  {
   "cell_type": "markdown",
   "id": "1602d93b-4dee-4a12-91d5-7e2d4aec75f0",
   "metadata": {},
   "source": [
    "**g) Check your answer in f) by solving the primal LP from Part 1 with the right-hand side of the Ge constraint increased by 10 and the right-hand side of the Si constraint increased by 20. What is the change in revenue from your answer in Part 1-b)?**"
   ]
  },
  {
   "cell_type": "code",
   "execution_count": 14,
   "id": "11d2b9b8-299e-4c45-8cc5-43aab242024f",
   "metadata": {
    "tags": []
   },
   "outputs": [
    {
     "name": "stdout",
     "output_type": "stream",
     "text": [
      "Gurobi Optimizer version 11.0.0 build v11.0.0rc2 (mac64[arm] - Darwin 22.5.0 22F82)\n",
      "\n",
      "CPU model: Apple M2\n",
      "Thread count: 8 physical cores, 8 logical processors, using up to 8 threads\n",
      "\n",
      "Optimize a model with 3 rows, 3 columns and 9 nonzeros\n",
      "Coefficient statistics:\n",
      "  Matrix range     [1e+01, 5e+01]\n",
      "  Objective range  [5e+02, 1e+03]\n",
      "  Bounds range     [0e+00, 0e+00]\n",
      "  RHS range        [2e+02, 1e+03]\n",
      "LP warm-start: use basis\n",
      "Iteration    Objective       Primal Inf.    Dual Inf.      Time\n",
      "       0    1.4666667e+04   3.458333e+01   0.000000e+00      0s\n",
      "       1    1.0240000e+04   0.000000e+00   0.000000e+00      0s\n",
      "\n",
      "Solved in 1 iterations and 0.00 seconds (0.00 work units)\n",
      "Optimal objective  1.024000000e+04\n"
     ]
    }
   ],
   "source": [
    "ge_constr.rhs = 310\n",
    "si_constr.rhs = 220\n",
    "m.update() \n",
    "m.optimize()"
   ]
  },
  {
   "cell_type": "code",
   "execution_count": 15,
   "id": "05d0e319-e247-4f33-b5f9-ba08ccea161b",
   "metadata": {
    "tags": []
   },
   "outputs": [
    {
     "name": "stdout",
     "output_type": "stream",
     "text": [
      "2\n",
      "Solved to optimality\n",
      "Number of Type 1 Chips:  0.0\n",
      "Number of Type 2 Chips:  8.3\n",
      "Number of Type 3 Chips:  3.6\n",
      "Optimal objective:  10240.000000000002\n"
     ]
    }
   ],
   "source": [
    "# Extract the solution status. \n",
    "status = m.status\n",
    "print(status)\n",
    "if status == GRB.OPTIMAL:\n",
    "    print(\"Solved to optimality\")\n",
    "    \n",
    "# Extract the optimal values of the decision variables.\n",
    "value_1 = x_1.x\n",
    "value_2 = x_2.x\n",
    "value_3 = x_3.x\n",
    "\n",
    "print(\"Number of Type 1 Chips: \", value_1)\n",
    "print(\"Number of Type 2 Chips: \", value_2)\n",
    "print(\"Number of Type 3 Chips: \", value_3)\n",
    "\n",
    "# Extract the optimal objective value.\n",
    "optimal_obj = m.objval\n",
    "print(\"Optimal objective: \", optimal_obj)"
   ]
  },
  {
   "cell_type": "markdown",
   "id": "f66bd603-571a-4907-b6c0-36ce3f47b11a",
   "metadata": {},
   "source": [
    "### Q2 Cloud Computing"
   ]
  },
  {
   "cell_type": "markdown",
   "id": "ed34cd16-c119-49c6-b885-b8ee7c0f5897",
   "metadata": {},
   "source": [
    "#### Part 1: Capacity control formulation"
   ]
  },
  {
   "cell_type": "markdown",
   "id": "d817991e-3172-441c-a059-bf1345cb724e",
   "metadata": {},
   "source": [
    "**In this first part of the problem, we need to mathematically formulate the capacity control problem for Cirrus as a linear optimization problem. Let x1, . . . , x9 be the number of instances that are reserved of each instance type. These will be the decision variables of our problem.**\n",
    "\n",
    "**a) Based on the prices given in the table earlier, what is the objective function of the problem?**"
   ]
  },
  {
   "cell_type": "markdown",
   "id": "a3d4afca-61a3-401b-99df-1b52e5fb26bd",
   "metadata": {
    "tags": []
   },
   "source": [
    "Max 7x_1 + 12x_2 + 24x_3 + 22x_4 + 44x_5 + 88x_6 + 30x_7 + 90x_8 + 120x_9"
   ]
  },
  {
   "cell_type": "markdown",
   "id": "218221f9-2404-4b8e-adb0-a3b67c558cad",
   "metadata": {},
   "source": [
    "**b) In terms of x1 , . . . , x9 , what is the constraint on the total memory usage of the instances that are reserved?**"
   ]
  },
  {
   "cell_type": "markdown",
   "id": "3f0fc4ac-6995-441d-80d4-3d4b257ba2bb",
   "metadata": {},
   "source": [
    "8x_1 + 16x_2 + 32x_3 + 32x_4 + 64x_5 + 128x_6 + 16x_7 + 32x_8 + 64x_9 <= 1024"
   ]
  },
  {
   "cell_type": "markdown",
   "id": "b6217d1c-5f78-4ab1-ab29-b6fe6edc58a2",
   "metadata": {},
   "source": [
    "**c) Let’s now consider the forecasted demand for each instance type. Recall that for a Poisson arrival process with rate λ per unit time, the total number of arrivals in a period of length T is a Poisson random variable Y with mean λT.**\n",
    "**Over the five day period, what is the expected number of requests of instance type 5? Assuming there will be exactly this many requests over the T = 5 day period, what is the constraint on the number of requests of instance type 5 we may accept?**"
   ]
  },
  {
   "cell_type": "markdown",
   "id": "560e1e21-2bd8-40ec-9e47-6d9d6f78fe04",
   "metadata": {},
   "source": [
    "expected number of requests of instance type 5 = 2.6 * 5 = 13"
   ]
  },
  {
   "cell_type": "markdown",
   "id": "ad9a65e9-d1a7-454d-8fe5-c222d2af5c8c",
   "metadata": {},
   "source": [
    "constraint: x5 <= 13"
   ]
  },
  {
   "cell_type": "markdown",
   "id": "52f5df82-04e0-43ae-840e-9ddf1855971a",
   "metadata": {},
   "source": [
    "**d) Using the logic in (a) – (c), write down the mathematical formulation of the T = 5 day capacity control problem as a linear optimization problem.**"
   ]
  },
  {
   "cell_type": "code",
   "execution_count": 16,
   "id": "7e5ecaa0-a571-4cc0-8290-4538e1df5fd4",
   "metadata": {
    "tags": []
   },
   "outputs": [
    {
     "name": "stdout",
     "output_type": "stream",
     "text": [
      "[25.  25.   9.  15.  13.   5.   4.   2.   1.5]\n"
     ]
    }
   ],
   "source": [
    "import numpy as np\n",
    "\n",
    "# number of Instances\n",
    "n = 9\n",
    "\n",
    "# price for each instance:\n",
    "price = np.array([7, 12, 24, 22, 44, 88, 30, 90, 120])\n",
    "\n",
    "# CPU for each instance:\n",
    "CPU = np.array([16, 32, 64, 8, 16, 32, 16, 32, 64])\n",
    "\n",
    "# Memory for each instance:\n",
    "Memory = np.array([8, 16, 32, 32, 64, 128, 16, 32, 64])\n",
    "\n",
    "# GPU for each instance:\n",
    "GPU = np.array([1, 1, 1, 1, 1, 1, 2, 6, 8])\n",
    "\n",
    "# rate of arrival: \n",
    "rate = np.array([5, 5, 1.8, 3, 2.6, 1, 0.8, 0.4, 0.3])\n",
    "\n",
    "# Time horizon:\n",
    "T = 5\n",
    "\n",
    "# compute the forecasted demand for each instance:\n",
    "forecast = T * rate\n",
    "print(forecast)"
   ]
  },
  {
   "cell_type": "markdown",
   "id": "93fd7936-8932-49d2-9f60-4830a4843b77",
   "metadata": {},
   "source": [
    "answer sheet"
   ]
  },
  {
   "cell_type": "markdown",
   "id": "251620c2-7e5b-41e3-b473-d36ba11af138",
   "metadata": {},
   "source": [
    "#### Part 2: Solving the capacity control problem in Python/Gurobi"
   ]
  },
  {
   "cell_type": "markdown",
   "id": "d0d0031c-906a-4182-9c0a-5c4700f57604",
   "metadata": {},
   "source": [
    "**a) Solve the problem. What is the optimal objective value?**"
   ]
  },
  {
   "cell_type": "code",
   "execution_count": 17,
   "id": "c373f798-a4de-4aaa-893d-95f9f7b1af95",
   "metadata": {
    "tags": []
   },
   "outputs": [
    {
     "name": "stdout",
     "output_type": "stream",
     "text": [
      "Gurobi Optimizer version 11.0.0 build v11.0.0rc2 (mac64[arm] - Darwin 22.5.0 22F82)\n",
      "\n",
      "CPU model: Apple M2\n",
      "Thread count: 8 physical cores, 8 logical processors, using up to 8 threads\n",
      "\n",
      "Optimize a model with 12 rows, 9 columns and 36 nonzeros\n",
      "Model fingerprint: 0x1d54b8a1\n",
      "Coefficient statistics:\n",
      "  Matrix range     [1e+00, 1e+02]\n",
      "  Objective range  [7e+00, 1e+02]\n",
      "  Bounds range     [2e+00, 2e+01]\n",
      "  RHS range        [2e+00, 1e+03]\n",
      "Presolve removed 9 rows and 1 columns\n",
      "Presolve time: 0.01s\n",
      "Presolved: 3 rows, 8 columns, 24 nonzeros\n",
      "\n",
      "Iteration    Objective       Primal Inf.    Dual Inf.      Time\n",
      "       0    2.8800000e+03   2.160000e+02   0.000000e+00      0s\n",
      "       3    1.0394286e+03   0.000000e+00   0.000000e+00      0s\n",
      "\n",
      "Solved in 3 iterations and 0.01 seconds (0.00 work units)\n",
      "Optimal objective  1.039428571e+03\n"
     ]
    }
   ],
   "source": [
    "# Formulate the LP\n",
    "from gurobipy import *\n",
    "\n",
    "# Create the model and the decision variables.\n",
    "m = Model()\n",
    "\n",
    "x = m.addVars(n, lb = 0, ub = forecast)\n",
    "\n",
    "# add constraints\n",
    "m_constr = m.addConstr(sum(Memory[i] * x[i] for i in range(n)) <= 1024)\n",
    "c_constr = m.addConstr(sum(CPU[i] * x[i] for i in range(n)) <= 512)\n",
    "g_constr = m.addConstr(sum(GPU[i] * x[i] for i in range(n)) <= 64)\n",
    "\n",
    "for j in range(n):\n",
    "    f_constr = m.addConstr(x[j] <= forecast[j])\n",
    "\n",
    "# Specify the objective\n",
    "m.setObjective(sum(price[i] * x[i] for i in range(n)), GRB.MAXIMIZE)\n",
    "\n",
    "# Solve \n",
    "m.update()\n",
    "m.optimize()"
   ]
  },
  {
   "cell_type": "code",
   "execution_count": 18,
   "id": "1b3d4fc1-e8b6-4368-a620-cd85fa4ad1b6",
   "metadata": {
    "tags": []
   },
   "outputs": [
    {
     "data": {
      "text/plain": [
       "1039.4285714285716"
      ]
     },
     "execution_count": 18,
     "metadata": {},
     "output_type": "execute_result"
    }
   ],
   "source": [
    "# Save the LP objective\n",
    "LP_obj = m.objval\n",
    "LP_obj"
   ]
  },
  {
   "cell_type": "markdown",
   "id": "69a8a35f-28e4-4db1-acb4-03ca7b01c201",
   "metadata": {},
   "source": [
    "**b) In the optimal allocation, how many requests of instance type C1 are accepted?**"
   ]
  },
  {
   "cell_type": "code",
   "execution_count": 19,
   "id": "99ee1ab7-0ee2-48fb-872d-fef434155434",
   "metadata": {
    "tags": []
   },
   "outputs": [
    {
     "name": "stdout",
     "output_type": "stream",
     "text": [
      "2\n",
      "Solved to optimality\n",
      "[6.285714285714286, 0.0, 0.0, 15.0, 4.214285714285714, 0.0, 4.0, 2.0, 1.5]\n",
      "Number of Instances Reserved for type 1:  6.285714285714286\n",
      "Optimal objective:  1039.4285714285716\n"
     ]
    }
   ],
   "source": [
    "status = m.status\n",
    "print(status)\n",
    "if status == GRB.OPTIMAL:\n",
    "    print(\"Solved to optimality\")\n",
    "\n",
    "x_val = [x[i].x for i in range(n)]\n",
    "print(x_val)\n",
    "\n",
    "print(\"Number of Instances Reserved for type 1: \", x[0].x)\n",
    "\n",
    "# Extract the optimal objective value.\n",
    "optimal_obj = m.objval\n",
    "print(\"Optimal objective: \", optimal_obj)"
   ]
  },
  {
   "cell_type": "markdown",
   "id": "06940ff1-0e76-4186-9ccf-2c75e2b53b3c",
   "metadata": {},
   "source": [
    "#### Part 3: Simulating current practice"
   ]
  },
  {
   "cell_type": "code",
   "execution_count": 20,
   "id": "5ffe4c60-3a4e-489e-9fbb-f78183474f66",
   "metadata": {
    "tags": []
   },
   "outputs": [
    {
     "data": {
      "text/plain": [
       "80.71"
      ]
     },
     "execution_count": 20,
     "metadata": {},
     "output_type": "execute_result"
    }
   ],
   "source": [
    "def generateArrivalSequences( nSimulations, rates, T ):\n",
    "    total_rate = sum(rates)\n",
    "    nTypes = len(rates)\n",
    "\n",
    "    arrival_sequences_times = []\n",
    "    arrival_sequences_types = [];\n",
    "\n",
    "    for s in range(nSimulations):\n",
    "        single_arrival_sequence_time = [];\n",
    "        single_arrival_sequence_type = [];\n",
    "        t = 0;\n",
    "        while (t < T):\n",
    "            single_time = np.random.exponential(1.0/total_rate)\n",
    "            single_type = np.random.choice(nTypes, p= rates/total_rate )\n",
    "\n",
    "            t += single_time;\n",
    "\n",
    "            if (t < T):\n",
    "                single_arrival_sequence_time.append(t)\n",
    "                single_arrival_sequence_type.append(single_type)\n",
    "            else:\n",
    "                break\n",
    "\n",
    "        arrival_sequences_times.append(np.array(single_arrival_sequence_time))\n",
    "        arrival_sequences_types.append(np.array(single_arrival_sequence_type))\n",
    "    return arrival_sequences_times, arrival_sequences_types\n",
    "\n",
    "\n",
    "\n",
    "# Code to test out above function\n",
    "np.random.seed(1)\n",
    "nSimulations_test = 100\n",
    "rates_test = np.array([5.0, 2.0, 3.0])\n",
    "T_test = 8\n",
    "x, y = generateArrivalSequences(nSimulations_test, rates_test, T_test)\n",
    "\n",
    "# If code above is working correctly, code below should show\n",
    "# value of 80.71:\n",
    "counts = np.array([len(y[i]) for i in range(nSimulations_test)] )\n",
    "counts.mean()"
   ]
  },
  {
   "cell_type": "markdown",
   "id": "4f0b2af3-37f9-4075-a755-3615d2b47df4",
   "metadata": {},
   "source": [
    "**a) What is the average number of arrivals of type C1 in the set of simulated sequences?**"
   ]
  },
  {
   "cell_type": "code",
   "execution_count": 21,
   "id": "3c3c87be-f728-44c0-9cc9-5c53076d638a",
   "metadata": {
    "tags": []
   },
   "outputs": [
    {
     "data": {
      "text/plain": [
       "26.63"
      ]
     },
     "execution_count": 21,
     "metadata": {},
     "output_type": "execute_result"
    }
   ],
   "source": [
    "np.random.seed(10)\n",
    "nSimulations_test = 100\n",
    "T_test = 5\n",
    "\n",
    "x, y = generateArrivalSequences(nSimulations_test, rate, T_test)\n",
    "\n",
    "counts_C1 = np.array([np.sum(types == 0) for types in y])\n",
    "counts_C1.mean()"
   ]
  },
  {
   "cell_type": "markdown",
   "id": "742cac23-7087-421e-9749-59443e1a36c7",
   "metadata": {},
   "source": [
    "**b) What is the average number of arrivals, of all types, over the set of simulated sequences? Does this make sense? (Hint: What is the expected value of the sum of Poisson random variables?)**"
   ]
  },
  {
   "cell_type": "code",
   "execution_count": 22,
   "id": "c51aef4d-9ffe-407a-a238-f1c4d3d22fc8",
   "metadata": {
    "tags": []
   },
   "outputs": [
    {
     "data": {
      "text/plain": [
       "101.0"
      ]
     },
     "execution_count": 22,
     "metadata": {},
     "output_type": "execute_result"
    }
   ],
   "source": [
    "counts_all = np.array([len(y[i]) for i in range(nSimulations_test)] )\n",
    "counts_all.mean()"
   ]
  },
  {
   "cell_type": "code",
   "execution_count": 23,
   "id": "2132b32b-391e-4cd2-8fad-ea2bb8ec01b1",
   "metadata": {
    "tags": []
   },
   "outputs": [
    {
     "data": {
      "text/plain": [
       "99.5"
      ]
     },
     "execution_count": 23,
     "metadata": {},
     "output_type": "execute_result"
    }
   ],
   "source": [
    "expected_arrivals = sum(T * rate[i] for i in range(n))\n",
    "expected_arrivals"
   ]
  },
  {
   "cell_type": "markdown",
   "id": "fe24188e-1de9-471c-8821-ce0237f7c87d",
   "metadata": {},
   "source": [
    "**c) Next, implement Cirrus’s current policy. This policy accepts any request, so long as there is capacity for it. You may use the code skeleton given in HW1 - Cloud Code.ipynb as a starting point.\n",
    "What is the average revenue garnered by this policy over the 100 simulated sequences?**"
   ]
  },
  {
   "cell_type": "code",
   "execution_count": 24,
   "id": "262da0f4-547b-44da-8d00-d8c548835254",
   "metadata": {
    "tags": []
   },
   "outputs": [
    {
     "name": "stdout",
     "output_type": "stream",
     "text": [
      "The average revenue garnered by this policy over the 100 simulated sequences is:  528.28\n"
     ]
    }
   ],
   "source": [
    "np.random.seed(10)\n",
    "nSimulations = 100\n",
    "nResources = 3\n",
    "B = np.array([512, 1024, 64])\n",
    "arrival_sequences_times, arrival_sequences_types = generateArrivalSequences(nSimulations_test, rate, T_test)\n",
    "\n",
    "\n",
    "results_myopic_revenue = np.zeros(nSimulations)\n",
    "results_myopic_remaining_capacity = np.zeros((nResources, nSimulations))\n",
    "\n",
    "for s in range(nSimulations):\n",
    "    b = B.copy()\n",
    "    single_revenue = 0.0 # will contain the revenue of this simulation\n",
    "    nArrivals = len(arrival_sequences_times[s])\n",
    "\n",
    "    # Go through the arrivals in sequence\n",
    "    for j in range(nArrivals):\n",
    "        # Obtain the time of the arrival, and its type (i)\n",
    "        arrival_time = arrival_sequences_times[s][j]\n",
    "        i = arrival_sequences_types[s][j]\n",
    "\n",
    "        # Check if there is sufficient capacity for the request\n",
    "        if b[0] >= CPU[i] and b[1] >= Memory[i] and b[2] >= GPU[i]:\n",
    "            # If there is sufficient capacity, accrue the revenue\n",
    "            single_revenue += price[i]\n",
    "            # and remove the capacity.\n",
    "            b[0] -= CPU[i]\n",
    "            b[1] -= Memory[i]\n",
    "            b[2] -= GPU[i]\n",
    "\n",
    "    # Save the results of this simulation here ...\n",
    "    results_myopic_revenue[s] = single_revenue\n",
    "    results_myopic_remaining_capacity[:, s] = b\n",
    "\n",
    "# Find the average revenue\n",
    "average_revenue = np.mean(results_myopic_revenue)\n",
    "\n",
    "# Find the average remaining quantity of each resource\n",
    "average_remaining_capacity = np.mean(results_myopic_remaining_capacity, axis=1)\n",
    "\n",
    "print('The average revenue garnered by this policy over the 100 simulated sequences is: ', average_revenue)"
   ]
  },
  {
   "cell_type": "markdown",
   "id": "0baf0147-f922-4bc6-b370-dca1cab7e7b3",
   "metadata": {},
   "source": [
    "**d) What is the average remaining capacity (of CPUs, memory and GPUs) of this policy?**"
   ]
  },
  {
   "cell_type": "code",
   "execution_count": 25,
   "id": "7e63a5ca-0eba-4589-b98c-3c13ffebcb8f",
   "metadata": {
    "tags": []
   },
   "outputs": [
    {
     "name": "stdout",
     "output_type": "stream",
     "text": [
      "The average remaining capacity of CPU under this policy is:  0.24\n",
      "The average remaining capacity of Memory under this policy is:  371.52\n",
      "The average remaining capacity of GPU under this policy is:  37.42\n"
     ]
    }
   ],
   "source": [
    "print('The average remaining capacity of CPU under this policy is: ', average_remaining_capacity[0])\n",
    "print('The average remaining capacity of Memory under this policy is: ', average_remaining_capacity[1])\n",
    "print('The average remaining capacity of GPU under this policy is: ', average_remaining_capacity[2])"
   ]
  },
  {
   "cell_type": "markdown",
   "id": "23b85dd0-8137-4546-84e1-abd498683e6c",
   "metadata": {},
   "source": [
    "#### Part 4: A bid-price control policy"
   ]
  },
  {
   "cell_type": "markdown",
   "id": "b835ac6e-db7a-4ff6-9f21-11575079e314",
   "metadata": {},
   "source": [
    "**a) As a warm-up, suppose that we receive a request for instance type 5 (M2). Let π1, π2, π3 be the shadow prices / dual values of the constraints for CPUs, memory and GPUs at a particular point in time. In terms of the shadow prices, what is the approximate opportunity cost of accepting this request?**"
   ]
  },
  {
   "cell_type": "code",
   "execution_count": 26,
   "id": "a7bd8405-b85b-48ee-95c4-8d9255089a8c",
   "metadata": {
    "tags": []
   },
   "outputs": [
    {
     "name": "stdout",
     "output_type": "stream",
     "text": [
      "Shadow price for CPU Constraint: 0.10714285714285714\n",
      "Shadow price for Memory Constraint: 0.6607142857142857\n",
      "Shadow price for GPU Constraint: 0.0\n"
     ]
    }
   ],
   "source": [
    "print(\"Shadow price for CPU Constraint:\", c_constr.pi)\n",
    "print(\"Shadow price for Memory Constraint:\", m_constr.pi)\n",
    "print(\"Shadow price for GPU Constraint:\", g_constr.pi)"
   ]
  },
  {
   "cell_type": "code",
   "execution_count": 27,
   "id": "c95c8749-85a8-4da4-bfe7-16ad0806a4a3",
   "metadata": {
    "tags": []
   },
   "outputs": [
    {
     "data": {
      "text/plain": [
       "44.0"
      ]
     },
     "execution_count": 27,
     "metadata": {},
     "output_type": "execute_result"
    }
   ],
   "source": [
    "opportunity_cost = 16 * c_constr.pi + 64 * m_constr.pi + 1 * g_constr.pi\n",
    "opportunity_cost"
   ]
  },
  {
   "cell_type": "code",
   "execution_count": 28,
   "id": "905ce13f-4333-4f3e-88c6-8885afa2397d",
   "metadata": {
    "tags": []
   },
   "outputs": [
    {
     "name": "stdout",
     "output_type": "stream",
     "text": [
      "The approximate opportunity cost of accepting this request is:  44.0\n"
     ]
    }
   ],
   "source": [
    "print('The approximate opportunity cost of accepting this request is: ', opportunity_cost)"
   ]
  },
  {
   "cell_type": "markdown",
   "id": "4884b3b3-34cb-444a-b6f1-cd110dbfed8f",
   "metadata": {},
   "source": [
    "**b) As a further warm-up, suppose that we receive a request at time t. What is the expected number of requests of type i we will receive from time t to time T (including both t and T)?**"
   ]
  },
  {
   "cell_type": "code",
   "execution_count": 29,
   "id": "c0a0bbae-02c7-4e3a-a326-cfe339508d70",
   "metadata": {
    "tags": []
   },
   "outputs": [
    {
     "name": "stdout",
     "output_type": "stream",
     "text": [
      "The expected number of requests of type i will receive from time t to T is: λ_i * (T - t + 1)\n"
     ]
    }
   ],
   "source": [
    "print('The expected number of requests of type i will receive from time t to T is: λ_i * (T - t + 1)')"
   ]
  },
  {
   "cell_type": "markdown",
   "id": "353e74d0-0ed9-41d0-8ad8-d2f4ea1a7cdf",
   "metadata": {},
   "source": [
    "**c) Now, based on the logic in (a) and (b), implement a bid-price control policy in Python. Apply this policy to the same 100 simulated sequences from Part 3. You may use the code skeleton given in HW1 - Cloud Code.ipynb as a starting point.\n",
    "What is the average revenue garnered by this policy over the 100 simulated sequences?**"
   ]
  },
  {
   "cell_type": "code",
   "execution_count": 30,
   "id": "0bec3ed9-7d62-46fd-a592-62613b985d9a",
   "metadata": {
    "tags": []
   },
   "outputs": [
    {
     "name": "stdout",
     "output_type": "stream",
     "text": [
      "Gurobi Optimizer version 11.0.0 build v11.0.0rc2 (mac64[arm] - Darwin 22.5.0 22F82)\n",
      "\n",
      "CPU model: Apple M2\n",
      "Thread count: 8 physical cores, 8 logical processors, using up to 8 threads\n",
      "\n",
      "Optimize a model with 12 rows, 9 columns and 36 nonzeros\n",
      "Model fingerprint: 0x1d54b8a1\n",
      "Coefficient statistics:\n",
      "  Matrix range     [1e+00, 1e+02]\n",
      "  Objective range  [7e+00, 1e+02]\n",
      "  Bounds range     [2e+00, 2e+01]\n",
      "  RHS range        [2e+00, 1e+03]\n",
      "Presolve removed 9 rows and 1 columns\n",
      "Presolve time: 0.00s\n",
      "Presolved: 3 rows, 8 columns, 24 nonzeros\n",
      "\n",
      "Iteration    Objective       Primal Inf.    Dual Inf.      Time\n",
      "       0    2.8800000e+03   2.160000e+02   0.000000e+00      0s\n",
      "       3    1.0394286e+03   0.000000e+00   0.000000e+00      0s\n",
      "\n",
      "Solved in 3 iterations and 0.01 seconds (0.00 work units)\n",
      "Optimal objective  1.039428571e+03\n"
     ]
    }
   ],
   "source": [
    "# Your LP formulation should be defined here\n",
    "# Create the model and the decision variables.\n",
    "m = Model()\n",
    "\n",
    "x = m.addVars(n, lb = 0, ub = forecast)\n",
    "\n",
    "# add constraints\n",
    "m_constr = m.addConstr(sum(Memory[i] * x[i] for i in range(n)) <= 1024)\n",
    "c_constr = m.addConstr(sum(CPU[i] * x[i] for i in range(n)) <= 512)\n",
    "g_constr = m.addConstr(sum(GPU[i] * x[i] for i in range(n)) <= 64)\n",
    "\n",
    "f_constr = {}\n",
    "for j in range(n):\n",
    "    f_constr[j] = m.addConstr(x[j] <= forecast[j])\n",
    "\n",
    "# Specify the objective\n",
    "m.setObjective(sum(price[i] * x[i] for i in range(n)), GRB.MAXIMIZE)\n",
    "\n",
    "# Solve \n",
    "m.update()\n",
    "m.optimize()"
   ]
  },
  {
   "cell_type": "code",
   "execution_count": 31,
   "id": "29b3841e-61ef-4aa4-b02d-26f7fe0df858",
   "metadata": {
    "tags": []
   },
   "outputs": [],
   "source": [
    "np.random.seed(10)\n",
    "nSimulations = 100\n",
    "nResources = 3\n",
    "B = np.array([512, 1024, 64])\n",
    "arrival_sequences_times, arrival_sequences_types = generateArrivalSequences(nSimulations_test, rate, T_test)\n",
    "\n",
    "m.setParam('OutputFlag', 0) # Suppresses Gurobi output\n",
    "\n",
    "# As we did in-class, define a function bpc() to re-solve the LO each time:\n",
    "def bpc(b, t, price, CPU, Memory, GPU, forecast, T):\n",
    "    for r in range(nResources):\n",
    "        # Set the RHS of the resource constraint to b[r] here\n",
    "        m_constr.RHS = b[1]  \n",
    "        c_constr.RHS = b[0]  \n",
    "        g_constr.RHS = b[2] \n",
    "\n",
    "    for i in range(n):\n",
    "        # Set the RHS of the forecast constraint for each instance\n",
    "        # type to the expected number of requests over the duration\n",
    "        # of the remaining horizon (T - t).\n",
    "        remaining_time = T - t\n",
    "        for j in range(n):\n",
    "            f_constr[j].RHS = remaining_time * rate[j]\n",
    "\n",
    "\n",
    "    # Re-solve the model:\n",
    "    m.update()\n",
    "    m.optimize()\n",
    "\n",
    "    # Obtain the dual values/shadow prices\n",
    "    dual_val = [c_constr.Pi, m_constr.Pi, g_constr.Pi]\n",
    "\n",
    "    # Return the dual values:\n",
    "    return dual_val\n",
    "\n",
    "\n",
    "\n",
    "results_revenue = np.zeros(nSimulations)\n",
    "results_remaining_capacity = np.zeros((nResources, nSimulations))\n",
    "for s in range(nSimulations):\n",
    "    b = B.copy() #Initialize the current capacity\n",
    "    single_revenue = 0.0 #Initialize the revenue garnered in this simulation\n",
    "    nArrivals = len(arrival_sequences_times[s])\n",
    "    for j in range(nArrivals):\n",
    "        # Take the next arrival time and type from the sequence\n",
    "        arrival_time = arrival_sequences_times[s][j]\n",
    "        i = arrival_sequences_types[s][j]\n",
    "\n",
    "        # Check if there is enough capacity\n",
    "        if b[0] >= CPU[i] and b[1] >= Memory[i] and b[2] >= GPU[i]:\n",
    "            # Re-solve the LO and obtain the dual values\n",
    "            dual_val = bpc(b, arrival_time, price, CPU, Memory, GPU, forecast, T_test)\n",
    "\n",
    "            \n",
    "            bid_price = CPU[i] * dual_val[0] + Memory[i] * dual_val[1] + GPU[i] * dual_val[2]\n",
    "\n",
    "            # Check if the revenue is at least the sum of the bid prices:\n",
    "            if price[i] >= bid_price:\n",
    "                # If there is sufficient capacity, accrue the revenue\n",
    "                # and remove the capacity.\n",
    "                b[0] -= CPU[i]\n",
    "                b[1] -= Memory[i]\n",
    "                b[2] -= GPU[i]\n",
    "                single_revenue += price[i]\n",
    "                \n",
    "\n",
    "    # Save the results of this simulation here:\n",
    "    results_revenue[s] = single_revenue\n",
    "    results_remaining_capacity[:, s] = b\n",
    "\n",
    "\n",
    "# Find the average revenue:\n",
    "average_revenue = np.mean(results_revenue)\n",
    "\n",
    "# Find the average remaining quantity of each resource\n",
    "average_remaining_capacity = np.mean(results_remaining_capacity, axis=1)"
   ]
  },
  {
   "cell_type": "code",
   "execution_count": 32,
   "id": "28047a9b-b05d-4496-be6d-37243f6303c6",
   "metadata": {
    "tags": []
   },
   "outputs": [
    {
     "name": "stdout",
     "output_type": "stream",
     "text": [
      "The average revenue garnered by this policy over the 100 simulated sequences is:  925.59\n"
     ]
    }
   ],
   "source": [
    "print('The average revenue garnered by this policy over the 100 simulated sequences is: ', average_revenue)"
   ]
  },
  {
   "cell_type": "code",
   "execution_count": 33,
   "id": "55b39fb2-4ced-45a3-b2ef-22ce298407b0",
   "metadata": {
    "tags": []
   },
   "outputs": [
    {
     "name": "stdout",
     "output_type": "stream",
     "text": [
      "The average remaining capacity of CPU under this policy is:  27.2\n",
      "The average remaining capacity of Memory under this policy is:  4.88\n",
      "The average remaining capacity of GPU under this policy is:  20.62\n"
     ]
    }
   ],
   "source": [
    "print('The average remaining capacity of CPU under this policy is: ', average_remaining_capacity[0])\n",
    "print('The average remaining capacity of Memory under this policy is: ', average_remaining_capacity[1])\n",
    "print('The average remaining capacity of GPU under this policy is: ', average_remaining_capacity[2])"
   ]
  },
  {
   "cell_type": "code",
   "execution_count": null,
   "id": "e85c4a69-8559-463a-bfef-de7fd41d75d6",
   "metadata": {},
   "outputs": [],
   "source": []
  }
 ],
 "metadata": {
  "kernelspec": {
   "display_name": "Python 3 (ipykernel)",
   "language": "python",
   "name": "python3"
  },
  "language_info": {
   "codemirror_mode": {
    "name": "ipython",
    "version": 3
   },
   "file_extension": ".py",
   "mimetype": "text/x-python",
   "name": "python",
   "nbconvert_exporter": "python",
   "pygments_lexer": "ipython3",
   "version": "3.10.12"
  }
 },
 "nbformat": 4,
 "nbformat_minor": 5
}
