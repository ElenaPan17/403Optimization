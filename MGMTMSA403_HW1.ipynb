{
 "cells": [
  {
   "cell_type": "markdown",
   "id": "d83e888b",
   "metadata": {},
   "source": [
    "# MGMTMSA 403 HW1\n",
    "\n",
    "## Team Members: Yijie Fu, Guangying Pan"
   ]
  },
  {
   "cell_type": "code",
   "execution_count": 1,
   "id": "4b61e26e",
   "metadata": {
    "tags": []
   },
   "outputs": [],
   "source": [
    "from gurobipy import *"
   ]
  },
  {
   "cell_type": "code",
   "execution_count": 2,
   "id": "678cb181",
   "metadata": {
    "tags": []
   },
   "outputs": [
    {
     "data": {
      "text/plain": [
       "[103.334, 8.967, 54.0155, 15.799, 11.3155, 20.2825]"
      ]
     },
     "execution_count": 2,
     "metadata": {},
     "output_type": "execute_result"
    }
   ],
   "source": [
    "# calculate target OR time for each department using the previous share\n",
    "share = [0.484, 0.042, 0.253, 0.074, 0.053, 0.095]\n",
    "t = [sh * 213.5 for sh in share]\n",
    "t"
   ]
  },
  {
   "cell_type": "code",
   "execution_count": 3,
   "id": "3ef38d74",
   "metadata": {
    "tags": []
   },
   "outputs": [],
   "source": [
    "departments = [0, 1, 2, 3, 4, 5]\n",
    "rooms = [0, 1, 2, 3, 4]\n",
    "days = [0, 1, 2, 3, 4]\n",
    "\n",
    "# The availability of each room on each day of the week\n",
    "tjk = {0: [9, 9, 9, 9, 7.5],\n",
    "       1: [9, 9, 9, 9, 7.5],\n",
    "       2: [9, 9, 9, 9, 7.5],\n",
    "       3: [9, 9, 9, 9, 7.5],\n",
    "       4: [9, 8, 8, 8, 6.5]}"
   ]
  },
  {
   "cell_type": "markdown",
   "id": "304f52b2",
   "metadata": {},
   "source": [
    "### Question 1"
   ]
  },
  {
   "cell_type": "code",
   "execution_count": 4,
   "id": "a52c0060",
   "metadata": {
    "tags": []
   },
   "outputs": [
    {
     "name": "stdout",
     "output_type": "stream",
     "text": [
      "Set parameter Username\n",
      "Academic license - for non-commercial use only - expires 2025-01-10\n",
      "Gurobi Optimizer version 11.0.0 build v11.0.0rc2 (mac64[arm] - Darwin 22.5.0 22F82)\n",
      "\n",
      "CPU model: Apple M2\n",
      "Thread count: 8 physical cores, 8 logical processors, using up to 8 threads\n",
      "\n",
      "Optimize a model with 37 rows, 156 columns and 312 nonzeros\n",
      "Model fingerprint: 0x3e32d60c\n",
      "Variable types: 6 continuous, 150 integer (150 binary)\n",
      "Coefficient statistics:\n",
      "  Matrix range     [1e+00, 9e+00]\n",
      "  Objective range  [1e-02, 1e-01]\n",
      "  Bounds range     [1e+00, 1e+00]\n",
      "  RHS range        [1e+00, 1e+02]\n",
      "Found heuristic solution: objective 6.0000000\n",
      "Found heuristic solution: objective 6.0000000\n",
      "Presolve removed 6 rows and 0 columns\n",
      "Presolve time: 0.00s\n",
      "Presolved: 31 rows, 156 columns, 306 nonzeros\n",
      "Variable types: 4 continuous, 152 integer (150 binary)\n",
      "Found heuristic solution: objective 5.0000000\n",
      "\n",
      "Root relaxation: objective 2.066116e-03, 50 iterations, 0.00 seconds (0.00 work units)\n",
      "\n",
      "    Nodes    |    Current Node    |     Objective Bounds      |     Work\n",
      " Expl Unexpl |  Obj  Depth IntInf | Incumbent    BestBd   Gap | It/Node Time\n",
      "\n",
      "     0     0    0.00207    0    8    5.00000    0.00207   100%     -    0s\n",
      "H    0     0                       1.6349745    0.00207   100%     -    0s\n",
      "H    0     0                       0.6288346    0.00207   100%     -    0s\n",
      "H    0     0                       0.3537147    0.00207  99.4%     -    0s\n",
      "H    0     0                       0.1962248    0.00207  98.9%     -    0s\n",
      "H    0     0                       0.1865475    0.00207  98.9%     -    0s\n",
      "H    0     0                       0.1817088    0.00207  98.9%     -    0s\n",
      "H    0     0                       0.1631956    0.00207  98.7%     -    0s\n",
      "     0     0    0.05162    0    3    0.16320    0.05162  68.4%     -    0s\n",
      "H    0     0                       0.1500685    0.05162  65.6%     -    0s\n",
      "H    0     0                       0.0519060    0.05162  0.54%     -    0s\n",
      "     0     0    0.05191    0    5    0.05191    0.05191  0.00%     -    0s\n",
      "\n",
      "Cutting planes:\n",
      "  Cover: 1\n",
      "  MIR: 5\n",
      "\n",
      "Explored 1 nodes (185 simplex iterations) in 0.02 seconds (0.00 work units)\n",
      "Thread count was 8 (of 8 available processors)\n",
      "\n",
      "Solution count 10: 0.051906 0.150068 0.163196 ... 5\n",
      "\n",
      "Optimal solution found (tolerance 1.00e-04)\n",
      "Best objective 5.190597648318e-02, best bound 5.190597639092e-02, gap 0.0000%\n"
     ]
    }
   ],
   "source": [
    "# Construct a 'blank' model\n",
    "mod = Model()\n",
    "\n",
    "# Define decision variables\n",
    "X = mod.addVars(departments, rooms, days, vtype=GRB.BINARY)\n",
    "s = mod.addVars(departments)\n",
    "\n",
    "# Construct constraints\n",
    "for i in departments:\n",
    "    mod.addConstr(s[i] >= t[i] - sum(X[i,j,k]*tjk[days[k]][j] for j in rooms for k in days))\n",
    "    mod.addConstr(s[i] >= 0)\n",
    "\n",
    "# only one department or no department can be in one room per day\n",
    "for j in rooms:\n",
    "    for k in days:\n",
    "        mod.addConstr(sum(X[i,j,k] for i in departments) <= 1)\n",
    "\n",
    "# Create the objective function, and set it to be minimized\n",
    "mod.setObjective(sum(s[i]/t[i] for i in departments), GRB.MINIMIZE)\n",
    "\n",
    "mod.update()\n",
    "\n",
    "mod.optimize()"
   ]
  },
  {
   "cell_type": "code",
   "execution_count": 5,
   "id": "19db9698",
   "metadata": {
    "scrolled": true
   },
   "outputs": [
    {
     "name": "stdout",
     "output_type": "stream",
     "text": [
      "Solved to optimality\n",
      "\n",
      "Optimized si/ti: 0.05190597648318124\n",
      "\n",
      "Department 1, Under-allocation: 5.3340000000000005\n",
      "\n",
      "Department 2, Under-allocation: 0.0\n",
      "\n",
      "Department 3, Under-allocation: 0.015500000000002956\n",
      "\n",
      "Department 4, Under-allocation: 0.0\n",
      "\n",
      "Department 5, Under-allocation: 0.0\n",
      "\n",
      "Department 6, Under-allocation: 0.0\n",
      "Room 1, Day 1: Department 1\n",
      "Room 2, Day 1: Department 1\n",
      "Room 3, Day 1: Department 3\n",
      "Room 4, Day 1: Department 1\n",
      "Room 5, Day 1: Department 5\n",
      "Room 1, Day 2: Department 1\n",
      "Room 2, Day 2: Department 1\n",
      "Room 3, Day 2: Department 3\n",
      "Room 4, Day 2: Department 3\n",
      "Room 5, Day 2: Department 6\n",
      "Room 1, Day 3: Department 1\n",
      "Room 2, Day 3: Department 2\n",
      "Room 3, Day 3: Department 1\n",
      "Room 4, Day 3: Department 3\n",
      "Room 5, Day 3: Department 5\n",
      "Room 1, Day 4: Department 1\n",
      "Room 2, Day 4: Department 1\n",
      "Room 3, Day 4: Department 3\n",
      "Room 4, Day 4: Department 3\n",
      "Room 5, Day 4: Department 6\n",
      "Room 1, Day 5: Department 1\n",
      "Room 2, Day 5: Department 4\n",
      "Room 3, Day 5: Department 4\n",
      "Room 4, Day 5: Department 1\n",
      "Room 5, Day 5: Department 6\n"
     ]
    }
   ],
   "source": [
    "# Extract the solution status. \n",
    "if mod.status == GRB.OPTIMAL:\n",
    "    print(\"Solved to optimality\")\n",
    "\n",
    "    # print optimized value obtained at the optimal solution\n",
    "    print(f\"\\nOptimized si/ti: {mod.objval}\")\n",
    "\n",
    "    # Extract the optimal values of the decision variables\n",
    "    for i in departments:\n",
    "        print(f\"\\nDepartment {i+1}, Under-allocation: {s[i].X}\")\n",
    "\n",
    "    # print optimal schedule\n",
    "    for k in days:\n",
    "        for j in rooms:\n",
    "            for i in departments:\n",
    "                if X[i, j, k].X == 1:\n",
    "                    print(f\"Room {j+1}, Day {k+1}: Department {i+1}\")"
   ]
  },
  {
   "cell_type": "markdown",
   "id": "49306a0e",
   "metadata": {},
   "source": [
    "### Question 2"
   ]
  },
  {
   "cell_type": "code",
   "execution_count": 6,
   "id": "809b0979",
   "metadata": {},
   "outputs": [
    {
     "name": "stdout",
     "output_type": "stream",
     "text": [
      "Gurobi Optimizer version 11.0.0 build v11.0.0rc2 (mac64[arm] - Darwin 22.5.0 22F82)\n",
      "\n",
      "CPU model: Apple M2\n",
      "Thread count: 8 physical cores, 8 logical processors, using up to 8 threads\n",
      "\n",
      "Optimize a model with 217 rows, 246 columns and 822 nonzeros\n",
      "Model fingerprint: 0x6b506fb8\n",
      "Variable types: 6 continuous, 240 integer (240 binary)\n",
      "Coefficient statistics:\n",
      "  Matrix range     [1e+00, 9e+00]\n",
      "  Objective range  [1e-02, 1e-01]\n",
      "  Bounds range     [1e+00, 1e+00]\n",
      "  RHS range        [1e+00, 1e+02]\n",
      "Found heuristic solution: objective 6.0000000\n",
      "Found heuristic solution: objective 6.0000000\n",
      "Presolve removed 36 rows and 30 columns\n",
      "Presolve time: 0.00s\n",
      "Presolved: 181 rows, 216 columns, 756 nonzeros\n",
      "Variable types: 4 continuous, 212 integer (210 binary)\n",
      "Found heuristic solution: objective 5.9998574\n",
      "\n",
      "Root relaxation: objective 1.387152e-01, 125 iterations, 0.00 seconds (0.00 work units)\n",
      "\n",
      "    Nodes    |    Current Node    |     Objective Bounds      |     Work\n",
      " Expl Unexpl |  Obj  Depth IntInf | Incumbent    BestBd   Gap | It/Node Time\n",
      "\n",
      "H    0     0                       0.1387152    0.00000   100%     -    0s\n",
      "     0     0          -    0         0.13872    0.13872  0.00%     -    0s\n",
      "\n",
      "Explored 1 nodes (267 simplex iterations) in 0.01 seconds (0.00 work units)\n",
      "Thread count was 8 (of 8 available processors)\n",
      "\n",
      "Solution count 3: 0.138715 5.99986 6 \n",
      "\n",
      "Optimal solution found (tolerance 1.00e-04)\n",
      "Best objective 1.387152340953e-01, best bound 1.387152340953e-01, gap 0.0000%\n"
     ]
    }
   ],
   "source": [
    "# Construct a 'blank' model\n",
    "mod = Model()\n",
    "\n",
    "# new variable: floor\n",
    "floors = [0, 1, 2]\n",
    "\n",
    "# Define decision variable\n",
    "X = mod.addVars(departments, rooms, days, vtype=GRB.BINARY)\n",
    "s = mod.addVars(departments)\n",
    "\n",
    "# Add new decision variable\n",
    "Z = mod.addVars(departments, floors, days, vtype = GRB.BINARY)\n",
    "\n",
    "# Construct constraints\n",
    "for i in departments:\n",
    "    mod.addConstr(s[i] >= t[i] - sum(X[i,j,k]*tjk[days[k]][j] for j in rooms for k in days))\n",
    "    mod.addConstr(s[i] >= 0)\n",
    "\n",
    "# only one department can be in one room per day\n",
    "for j in rooms:\n",
    "    for k in days:\n",
    "        mod.addConstr(sum(X[i,j,k] for i in departments) <= 1)\n",
    "        \n",
    "# New constraints\n",
    "# only one floor or no floor can be assigned to a department per day\n",
    "for i in departments:\n",
    "    for k in days:\n",
    "        mod.addConstr(sum(Z[i,l,k] for l in floors) <= 1)\n",
    "\n",
    "# floor 1: room1 + room2\n",
    "# floor 2: room3 + room4\n",
    "# floor 3: room5\n",
    "for i in departments:\n",
    "    for k in days:\n",
    "        # when room1 or room2 is either/both occupied, floor1 = 1, otherwise floor1 = 0\n",
    "        mod.addConstr(X[i,0,k] + X[i,1,k] >= Z[i,0,k])\n",
    "        mod.addConstr(X[i,0,k] + X[i,1,k] <= 2*Z[i,0,k])\n",
    "        \n",
    "        # when room3 or room4 is either/both occupied, floor2 = 1, otherwise floor2 = 0\n",
    "        mod.addConstr(X[i,2,k] + X[i,3,k] >= Z[i,1,k])\n",
    "        mod.addConstr(X[i,2,k] + X[i,3,k] <= 2*Z[i,1,k])\n",
    "        \n",
    "        #  when room5 is occupied, floor3 = 1, otherwise floor3 = 0\n",
    "        mod.addConstr(X[i,4,k] == Z[i,2,k])\n",
    "        \n",
    "\n",
    "# Create the objective function, and set it to be minimized\n",
    "mod.setObjective(sum(s[i]/t[i] for i in departments), GRB.MINIMIZE)\n",
    "\n",
    "mod.update()\n",
    "\n",
    "mod.optimize()"
   ]
  },
  {
   "cell_type": "code",
   "execution_count": 7,
   "id": "e96d6047",
   "metadata": {},
   "outputs": [
    {
     "name": "stdout",
     "output_type": "stream",
     "text": [
      "Solved to optimality\n",
      "\n",
      "Optimized si/ti: 0.1387152340952639\n",
      "\n",
      "Department 1, Under-allocation: 14.334\n",
      "\n",
      "Department 2, Under-allocation: 0.0\n",
      "\n",
      "Department 3, Under-allocation: 0.0\n",
      "\n",
      "Department 4, Under-allocation: 0.0\n",
      "\n",
      "Department 5, Under-allocation: 0.0\n",
      "\n",
      "Department 6, Under-allocation: 0.0\n",
      "Room 1, Day 1: Department 3\n",
      "Room 2, Day 1: Department 3\n",
      "Room 3, Day 1: Department 1\n",
      "Room 4, Day 1: Department 1\n",
      "Room 5, Day 1: Department 6\n",
      "Room 1, Day 2: Department 1\n",
      "Room 2, Day 2: Department 1\n",
      "Room 3, Day 2: Department 3\n",
      "Room 4, Day 2: Department 3\n",
      "Room 5, Day 2: Department 5\n",
      "Room 1, Day 3: Department 1\n",
      "Room 2, Day 3: Department 1\n",
      "Room 3, Day 3: Department 4\n",
      "Room 4, Day 3: Department 4\n",
      "Room 5, Day 3: Department 6\n",
      "Room 1, Day 4: Department 1\n",
      "Room 2, Day 4: Department 1\n",
      "Room 3, Day 4: Department 3\n",
      "Room 4, Day 4: Department 2\n",
      "Room 5, Day 4: Department 6\n",
      "Room 1, Day 5: Department 1\n",
      "Room 2, Day 5: Department 1\n",
      "Room 3, Day 5: Department 3\n",
      "Room 4, Day 5: Department 3\n",
      "Room 5, Day 5: Department 5\n"
     ]
    }
   ],
   "source": [
    "# Extract the solution status. \n",
    "if mod.status == GRB.OPTIMAL:\n",
    "    print(\"Solved to optimality\")\n",
    "\n",
    "    # print optimized value obtained at the optimal solution\n",
    "    print(f\"\\nOptimized si/ti: {mod.objval}\")\n",
    "\n",
    "    # Extract the optimal values of the decision variables\n",
    "    for i in departments:\n",
    "        print(f\"\\nDepartment {i+1}, Under-allocation: {s[i].X}\")\n",
    "\n",
    "    # print optimal schedule\n",
    "    for k in days:\n",
    "        for j in rooms:\n",
    "            for i in departments:\n",
    "                if X[i, j, k].X == 1:\n",
    "                    print(f\"Room {j+1}, Day {k+1}: Department {i+1}\")"
   ]
  }
 ],
 "metadata": {
  "kernelspec": {
   "display_name": "Python 3 (ipykernel)",
   "language": "python",
   "name": "python3"
  },
  "language_info": {
   "codemirror_mode": {
    "name": "ipython",
    "version": 3
   },
   "file_extension": ".py",
   "mimetype": "text/x-python",
   "name": "python",
   "nbconvert_exporter": "python",
   "pygments_lexer": "ipython3",
   "version": "3.10.12"
  },
  "toc": {
   "base_numbering": 1,
   "nav_menu": {},
   "number_sections": true,
   "sideBar": true,
   "skip_h1_title": false,
   "title_cell": "Table of Contents",
   "title_sidebar": "Contents",
   "toc_cell": false,
   "toc_position": {},
   "toc_section_display": true,
   "toc_window_display": false
  }
 },
 "nbformat": 4,
 "nbformat_minor": 5
}
