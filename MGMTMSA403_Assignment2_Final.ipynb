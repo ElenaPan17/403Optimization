{
 "cells": [
  {
   "cell_type": "markdown",
   "metadata": {},
   "source": [
    "# MGMTMSA 403 Homework 2: Portfolio Optimization\n"
   ]
  },
  {
   "cell_type": "markdown",
   "metadata": {},
   "source": [
    "**Group Members: Guangying Pan, Yijie Fu**"
   ]
  },
  {
   "cell_type": "markdown",
   "metadata": {},
   "source": [
    "## Pre-processing step: Estimate expected returns and covariance"
   ]
  },
  {
   "cell_type": "code",
   "execution_count": 1,
   "metadata": {},
   "outputs": [],
   "source": [
    "# Import gurobi and numpy\n",
    "from gurobipy import *\n",
    "import numpy as np\n",
    "from numpy import genfromtxt\n",
    "import csv\n",
    "\n",
    "## Get index of 4 tickers\n",
    "tick4 = [\"MSFT\",\"GS\",\"PG\",\"SCHP\"];\n",
    "\n",
    "# Get variable names\n",
    "with open('Prices.csv') as csvFile:\n",
    "    reader = csv.reader(csvFile)\n",
    "    tickers = next(reader) ## stores the tickers of all 390 stocks\n",
    "\n",
    "tickind =[];\n",
    "for t in tick4:\n",
    "    tickind.append(tickers.index(t)) ## retrieve index that corresponds to each ticker\n",
    "\n",
    "# Load data\n",
    "prices = genfromtxt('Prices.csv', delimiter=',',skip_header = 1)\n",
    "\n",
    "# get dimensions of data\n",
    "d = prices.shape[0]\n",
    "n = prices.shape[1]\n",
    "\n",
    "# calculate monthly returns of each stock\n",
    "returns = np.zeros((d-1,n))\n",
    "for stock in range(n):\n",
    "    for month in range(d-1):\n",
    "        returns[month,stock] = prices[month+1,stock]/prices[month,stock]-1\n",
    "        \n",
    "# Store average return (parameter r_i in portfolio optimization model)       \n",
    "avg_return = np.zeros(n)\n",
    "avg_return = np.mean(returns,axis=0)\n",
    "\n",
    "# Store covariance matrix (parameter C_ij in portfolio optimization model)\n",
    "C = np.zeros((n,n))\n",
    "C = np.cov(np.transpose(returns))\n"
   ]
  },
  {
   "cell_type": "markdown",
   "metadata": {},
   "source": [
    "## Question 1"
   ]
  },
  {
   "cell_type": "markdown",
   "metadata": {},
   "source": [
    "**(a) For Model 1, write down the optimal risk (i.e. the optimal objective function value), solver time, and the weight on each of the four stocks.**"
   ]
  },
  {
   "cell_type": "markdown",
   "metadata": {},
   "source": [
    "### Model 1"
   ]
  },
  {
   "cell_type": "markdown",
   "metadata": {},
   "source": [
    "**optimal risk**: 1.77493264e-04\n",
    "\n",
    "**solver time**: 0.02 seconds\n",
    "\n",
    "**Weight**:\n",
    "\n",
    "315 (\"MSFT\"): 0.23711755540145132\n",
    "\n",
    "216 (\"GS\"): 0.025859609077563107\n",
    "\n",
    "372 (\"PG\"): 1.643079012001778e-10\n",
    "\n",
    "388 (\"SCHP\"): 0.7370228353566646"
   ]
  },
  {
   "cell_type": "code",
   "execution_count": 2,
   "metadata": {
    "tags": []
   },
   "outputs": [
    {
     "name": "stdout",
     "output_type": "stream",
     "text": [
      "Set parameter Username\n",
      "Academic license - for non-commercial use only - expires 2025-01-10\n",
      "Gurobi Optimizer version 11.0.0 build v11.0.0rc2 (mac64[arm] - Darwin 22.5.0 22F82)\n",
      "\n",
      "CPU model: Apple M2\n",
      "Thread count: 8 physical cores, 8 logical processors, using up to 8 threads\n",
      "\n",
      "Optimize a model with 6 rows, 390 columns and 12 nonzeros\n",
      "Model fingerprint: 0x4342ba91\n",
      "Model has 10 quadratic objective terms\n",
      "Coefficient statistics:\n",
      "  Matrix range     [2e-04, 1e+00]\n",
      "  Objective range  [0e+00, 0e+00]\n",
      "  QObjective range [5e-05, 7e-03]\n",
      "  Bounds range     [0e+00, 0e+00]\n",
      "  RHS range        [5e-03, 1e+00]\n",
      "Presolve removed 4 rows and 386 columns\n",
      "Presolve time: 0.01s\n",
      "Presolved: 2 rows, 4 columns, 8 nonzeros\n",
      "Presolved model has 10 quadratic objective terms\n",
      "Ordering time: 0.00s\n",
      "\n",
      "Barrier statistics:\n",
      " Free vars  : 3\n",
      " AA' NZ     : 1.000e+01\n",
      " Factor NZ  : 1.500e+01\n",
      " Factor Ops : 5.500e+01 (less than 1 second per iteration)\n",
      " Threads    : 1\n",
      "\n",
      "                  Objective                Residual\n",
      "Iter       Primal          Dual         Primal    Dual     Compl     Time\n",
      "   0   7.75648617e+03 -7.75648617e+03  3.50e+03 1.57e-06  1.00e+06     0s\n",
      "   1   2.51636603e+02 -2.59893243e+02  2.31e+02 1.04e-07  6.92e+04     0s\n",
      "   2   2.61043362e-03 -1.01272125e+01  6.64e-01 2.99e-10  3.29e+02     0s\n",
      "   3   1.01144644e-03 -3.53587425e+00  6.64e-07 3.02e-16  4.53e+01     0s\n",
      "   4   1.00956586e-03 -4.19494040e-03  3.14e-10 9.76e-18  6.66e-02     0s\n",
      "   5   4.34187327e-04 -3.61737038e-05  6.69e-12 1.69e-17  6.02e-03     0s\n",
      "   6   2.14699172e-04  1.27154313e-04  1.11e-16 1.32e-17  1.12e-03     0s\n",
      "   7   1.80089010e-04  1.72718190e-04  2.78e-17 1.39e-17  9.43e-05     0s\n",
      "   8   1.77537641e-04  1.76950183e-04  5.11e-15 4.35e-18  7.52e-06     0s\n",
      "   9   1.77493374e-04  1.77486115e-04  1.54e-14 2.99e-18  9.29e-08     0s\n",
      "  10   1.77493264e-04  1.77493257e-04  6.55e-15 1.39e-17  9.32e-11     0s\n",
      "\n",
      "Barrier solved model in 10 iterations and 0.02 seconds (0.00 work units)\n",
      "Optimal objective 1.77493264e-04\n",
      "\n"
     ]
    }
   ],
   "source": [
    "# Construct a 'blank' model\n",
    "mod = Model()\n",
    "\n",
    "# Define decision variables\n",
    "w = mod.addVars(390)\n",
    "\n",
    "# Construct constraints\n",
    "# Weights add up to 1\n",
    "mod.addConstr(sum(w[i] for i in tickind) == 1)\n",
    "\n",
    "# Weights are greater than 0\n",
    "for i in tickind:\n",
    "    mod.addConstr(w[i] >= 0)\n",
    "\n",
    "# Expected return should be at least r\n",
    "mod.addConstr(sum(w[i]*avg_return[i] for i in tickind) >= 0.005)\n",
    "\n",
    "# Create the objective function, and set it to be minimized\n",
    "mod.setObjective(sum(w[i]*w[j]*C[i,j] for i in tickind for j in tickind), GRB.MINIMIZE)\n",
    "\n",
    "mod.update()\n",
    "\n",
    "mod.optimize()"
   ]
  },
  {
   "cell_type": "code",
   "execution_count": 3,
   "metadata": {
    "tags": []
   },
   "outputs": [
    {
     "name": "stdout",
     "output_type": "stream",
     "text": [
      "Solved to optimality\n",
      "\n",
      "Optimized Value: 0.00017749326422824104\n",
      "\n",
      " 315: Weight: 0.23711755540145132\n",
      "\n",
      " 216: Weight: 0.025859609077563107\n",
      "\n",
      " 372: Weight: 1.643079012001778e-10\n",
      "\n",
      " 388: Weight: 0.7370228353566646\n"
     ]
    }
   ],
   "source": [
    "# Extract the solution status. \n",
    "if mod.status == GRB.OPTIMAL:\n",
    "    print(\"Solved to optimality\")\n",
    "\n",
    "    # print optimized value obtained at the optimal solution\n",
    "    print(f\"\\nOptimized Value: {mod.objval}\")\n",
    "\n",
    "    # Extract the optimal values of the decision variables\n",
    "    for i in tickind:\n",
    "        print(f\"\\n {i}: Weight: {w[i].X}\")"
   ]
  },
  {
   "cell_type": "markdown",
   "metadata": {},
   "source": [
    "**(b) For Model 2, write down the optimal risk and solver time.**"
   ]
  },
  {
   "cell_type": "markdown",
   "metadata": {},
   "source": [
    "### Model 2"
   ]
  },
  {
   "cell_type": "markdown",
   "metadata": {},
   "source": [
    "**optimal risk**: 2.87917525e-05\n",
    "    \n",
    "**solver time**: 0.04 seconds"
   ]
  },
  {
   "cell_type": "code",
   "execution_count": 4,
   "metadata": {
    "tags": []
   },
   "outputs": [
    {
     "name": "stdout",
     "output_type": "stream",
     "text": [
      "Gurobi Optimizer version 11.0.0 build v11.0.0rc2 (mac64[arm] - Darwin 22.5.0 22F82)\n",
      "\n",
      "CPU model: Apple M2\n",
      "Thread count: 8 physical cores, 8 logical processors, using up to 8 threads\n",
      "\n",
      "Optimize a model with 392 rows, 390 columns and 1170 nonzeros\n",
      "Model fingerprint: 0xdb4291c8\n",
      "Model has 76245 quadratic objective terms\n",
      "Coefficient statistics:\n",
      "  Matrix range     [1e-06, 1e+00]\n",
      "  Objective range  [0e+00, 0e+00]\n",
      "  QObjective range [2e-07, 8e-02]\n",
      "  Bounds range     [0e+00, 0e+00]\n",
      "  RHS range        [5e-03, 1e+00]\n",
      "Presolve removed 390 rows and 0 columns\n",
      "Presolve time: 0.01s\n",
      "Presolved: 2 rows, 390 columns, 780 nonzeros\n",
      "Presolved model has 76245 quadratic objective terms\n",
      "Ordering time: 0.00s\n",
      "\n",
      "Barrier statistics:\n",
      " Free vars  : 59\n",
      " AA' NZ     : 1.830e+03\n",
      " Factor NZ  : 1.891e+03\n",
      " Factor Ops : 7.753e+04 (less than 1 second per iteration)\n",
      " Threads    : 8\n",
      "\n",
      "                  Objective                Residual\n",
      "Iter       Primal          Dual         Primal    Dual     Compl     Time\n",
      "   0   1.10520633e-17 -1.10520633e-17  3.90e+05 1.86e-08  1.00e+06     0s\n",
      "   1   1.32403095e+02 -1.40151246e+02  1.14e+04 5.42e-10  2.92e+04     0s\n",
      "   2   1.53493902e+00 -9.57482645e+00  1.02e+02 4.86e-12  2.67e+02     0s\n",
      "   3   1.17587702e-03 -7.92081818e+00  1.02e-04 6.11e-16  2.59e+00     0s\n",
      "   4   1.17509605e-03 -1.01300882e-02  4.36e-08 1.82e-17  3.70e-03     0s\n",
      "   5   8.22186010e-04 -1.13464664e-03  4.77e-09 1.59e-17  6.41e-04     0s\n",
      "   6   3.78013352e-04 -5.97431608e-04  2.44e-15 2.22e-16  3.19e-04     0s\n",
      "   7   2.05319383e-04 -1.66218904e-04  1.11e-15 1.67e-16  1.22e-04     0s\n",
      "   8   9.53707757e-05 -4.26667932e-05  7.11e-15 8.33e-17  4.52e-05     0s\n",
      "   9   6.93295928e-05  3.06840100e-06  2.66e-15 2.78e-17  2.17e-05     0s\n",
      "  10   4.16952119e-05  2.32922123e-05  2.89e-15 2.78e-17  6.02e-06     0s\n",
      "  11   3.39225828e-05  2.74051911e-05  1.22e-15 4.16e-17  2.13e-06     0s\n",
      "  12   3.04655599e-05  2.85032903e-05  4.97e-14 2.08e-17  6.42e-07     0s\n",
      "  13   2.89580888e-05  2.87642150e-05  4.11e-15 1.56e-17  6.35e-08     0s\n",
      "  14   2.87917525e-05  2.87842956e-05  7.31e-14 2.08e-17  2.44e-09     0s\n",
      "\n",
      "Barrier solved model in 14 iterations and 0.04 seconds (0.01 work units)\n",
      "Optimal objective 2.87917525e-05\n",
      "\n"
     ]
    }
   ],
   "source": [
    "# Construct a 'blank' model\n",
    "mod = Model()\n",
    "\n",
    "# Define decision variables\n",
    "w = mod.addVars(390)\n",
    "\n",
    "# Construct constraints\n",
    "# Weights add up to 1\n",
    "mod.addConstr(sum(w[i] for i in range(390)) == 1)\n",
    "\n",
    "# Weights are greater than 0\n",
    "for i in range(390):\n",
    "    mod.addConstr(w[i] >= 0)\n",
    "\n",
    "# Expected return should be at least r\n",
    "mod.addConstr(sum(w[i]*avg_return[i] for i in range(390)) >= 0.005)\n",
    "\n",
    "# Create the objective function, and set it to be minimized\n",
    "mod.setObjective(sum(w[i]*w[j]*C[i,j] for i in range(390) for j in range(390)), GRB.MINIMIZE)\n",
    "\n",
    "mod.update()\n",
    "\n",
    "mod.optimize()"
   ]
  },
  {
   "cell_type": "markdown",
   "metadata": {},
   "source": [
    "**(c) For Model 3, report the optimal risk, solver time, and the ticker and weight on each of the\n",
    "four stocks selected by the model.**"
   ]
  },
  {
   "cell_type": "markdown",
   "metadata": {},
   "source": [
    "### Model 3"
   ]
  },
  {
   "cell_type": "markdown",
   "metadata": {},
   "source": [
    "**optimal risk**: 6.753470760728e-05\n",
    "\n",
    "**solver time**: 34.94 seconds\n",
    "\n",
    "**Weights**:\n",
    "\n",
    "CME: 0.12641141929490474\n",
    "\n",
    "LLY: 0.07547619035437456\n",
    "\n",
    "NVDA: 0.043753706728431804\n",
    "\n",
    "BND: 0.754358683622289"
   ]
  },
  {
   "cell_type": "code",
   "execution_count": 5,
   "metadata": {
    "tags": []
   },
   "outputs": [
    {
     "name": "stdout",
     "output_type": "stream",
     "text": [
      "Gurobi Optimizer version 11.0.0 build v11.0.0rc2 (mac64[arm] - Darwin 22.5.0 22F82)\n",
      "\n",
      "CPU model: Apple M2\n",
      "Thread count: 8 physical cores, 8 logical processors, using up to 8 threads\n",
      "\n",
      "Optimize a model with 783 rows, 780 columns and 2340 nonzeros\n",
      "Model fingerprint: 0xf480024a\n",
      "Model has 76245 quadratic objective terms\n",
      "Variable types: 390 continuous, 390 integer (390 binary)\n",
      "Coefficient statistics:\n",
      "  Matrix range     [1e-06, 1e+00]\n",
      "  Objective range  [0e+00, 0e+00]\n",
      "  QObjective range [2e-07, 8e-02]\n",
      "  Bounds range     [1e+00, 1e+00]\n",
      "  RHS range        [5e-03, 4e+00]\n",
      "Presolve removed 390 rows and 0 columns\n",
      "Presolve time: 0.04s\n",
      "Presolved: 393 rows, 780 columns, 1950 nonzeros\n",
      "Presolved model has 76245 quadratic objective terms\n",
      "Variable types: 390 continuous, 390 integer (390 binary)\n",
      "Found heuristic solution: objective 0.0009032\n",
      "\n",
      "Root relaxation: objective 2.878501e-05, 129 iterations, 0.01 seconds (0.01 work units)\n",
      "\n",
      "    Nodes    |    Current Node    |     Objective Bounds      |     Work\n",
      " Expl Unexpl |  Obj  Depth IntInf | Incumbent    BestBd   Gap | It/Node Time\n",
      "\n",
      "     0     0    0.00003    0   21    0.00090    0.00003  96.8%     -    0s\n",
      "H    0     0                       0.0000723    0.00003  60.2%     -    0s\n",
      "     0     0    0.00003    0   21    0.00007    0.00003  60.2%     -    0s\n",
      "     0     0    0.00003    0   21    0.00007    0.00003  58.1%     -    0s\n",
      "     0     0    0.00003    0   21    0.00007    0.00003  58.1%     -    0s\n",
      "     0     2    0.00003    0   21    0.00007    0.00003  58.1%     -    0s\n",
      "H  168   127                       0.0000715    0.00003  57.7%  48.1    0s\n",
      "H  170   127                       0.0000676    0.00003  55.2%  48.2    0s\n",
      "H 1954  1086                       0.0000675    0.00004  42.1%  46.3    2s\n",
      "  3684  1477    0.00006   63   24    0.00007    0.00004  42.1%  45.2    5s\n",
      "  8195  2355    0.00006   24   19    0.00007    0.00005  29.4%  54.0   10s\n",
      " 13845  2928    0.00006   43   18    0.00007    0.00006  18.2%  55.6   15s\n",
      " 18057  2493     cutoff   35         0.00007    0.00006  12.1%  60.5   20s\n",
      " 21572  1802     cutoff   46         0.00007    0.00006  7.91%  69.3   25s\n",
      " 24469   849    0.00007   51   19    0.00007    0.00006  4.68%  79.3   31s\n",
      "\n",
      "Explored 26834 nodes (2262311 simplex iterations) in 34.94 seconds (34.23 work units)\n",
      "Thread count was 8 (of 8 available processors)\n",
      "\n",
      "Solution count 5: 6.75347e-05 6.75857e-05 7.1543e-05 ... 0.000903152\n",
      "\n",
      "Optimal solution found (tolerance 1.00e-04)\n",
      "Best objective 6.753470760728e-05, best bound 6.753470760728e-05, gap 0.0000%\n"
     ]
    }
   ],
   "source": [
    "# Construct a 'blank' model\n",
    "mod = Model()\n",
    "\n",
    "# Define decision variables\n",
    "w = mod.addVars(390)\n",
    "\n",
    "# Add decision variable: whether to choose the stock or not\n",
    "X = mod.addVars(390, vtype=GRB.BINARY)\n",
    "\n",
    "\n",
    "# Construct constraints\n",
    "# Weights add up to 1\n",
    "mod.addConstr(sum(w[i] for i in range(390)) == 1)\n",
    "\n",
    "# Weights are greater than 0\n",
    "for i in range(390):\n",
    "    mod.addConstr(w[i] >= 0)\n",
    "\n",
    "# Expected return should be at least r\n",
    "mod.addConstr(sum(w[i]*avg_return[i] for i in range(390)) >= 0.005)\n",
    "\n",
    "# selects at most 4\n",
    "mod.addConstr(sum(X[i] for i in range(390)) <= 4)\n",
    "\n",
    "# when X is 0, then w is 0; when X is 1, then w is positive\n",
    "for i in range(390):\n",
    "    mod.addConstr(X[i] >= w[i])\n",
    "\n",
    "# Create the objective function, and set it to be minimized\n",
    "mod.setObjective(sum(w[i]*w[j]*C[i,j] for i in range(390) for j in range(390)), GRB.MINIMIZE)\n",
    "\n",
    "mod.update()\n",
    "\n",
    "mod.optimize()"
   ]
  },
  {
   "cell_type": "code",
   "execution_count": 6,
   "metadata": {
    "tags": []
   },
   "outputs": [
    {
     "name": "stdout",
     "output_type": "stream",
     "text": [
      "Solved to optimality\n",
      "\n",
      "Optimized Value: 6.753470760728118e-05\n",
      "\n",
      " CME: Weight: 0.12641141929490474\n",
      "\n",
      " LLY: Weight: 0.07547619035437456\n",
      "\n",
      " NVDA: Weight: 0.043753706728431804\n",
      "\n",
      " BND: Weight: 0.754358683622289\n"
     ]
    }
   ],
   "source": [
    "# Extract the solution status. \n",
    "if mod.status == GRB.OPTIMAL:\n",
    "    print(\"Solved to optimality\")\n",
    "\n",
    "    # print optimized value obtained at the optimal solution\n",
    "    print(f\"\\nOptimized Value: {mod.objval}\")\n",
    "\n",
    "    # Extract the optimal values of the decision variables\n",
    "    for i in range(390):\n",
    "        if X[i].X == 1:\n",
    "            ticker_name = tickers[i]\n",
    "            print(f\"\\n {ticker_name}: Weight: {w[i].X}\")"
   ]
  },
  {
   "cell_type": "markdown",
   "metadata": {},
   "source": [
    "## Question 2"
   ]
  },
  {
   "cell_type": "markdown",
   "metadata": {},
   "source": [
    "**(a) Is the optimal risk in Model 1 higher or lower than Model 2? Explain why in 1-2 sentences.**"
   ]
  },
  {
   "cell_type": "markdown",
   "metadata": {},
   "source": [
    "Optimal risk in Model 1 is higher than Model 2 due to a lack of diversification. With only 4 stocks, portfolio is more exposed to the specific risks associated with each of these stocks (like sector-specific risks, company-specific risks, etc.), whereas a portfolio with 390 stocks is more likely to be spread across different sectors and types of companies, thereby diluting these specific risks."
   ]
  },
  {
   "cell_type": "markdown",
   "metadata": {},
   "source": [
    "**(b) Is the optimal risk in Model 2 higher or lower than Model 3? Explain why in 1-2 sentences.**"
   ]
  },
  {
   "cell_type": "markdown",
   "metadata": {},
   "source": [
    "Optimal risk in Model 2 is lower than Model 3. In Model 2, weights are distributed across all 390 stocks - the portfolio is diversified and thus when attempting to minimize risk, we get a lower optimal risk. In Comparison, Model 3 is more selective and less diversified. "
   ]
  },
  {
   "cell_type": "markdown",
   "metadata": {},
   "source": [
    "## Question 3"
   ]
  },
  {
   "cell_type": "markdown",
   "metadata": {},
   "source": [
    "**(a) Set Gurobi to terminate after 3 seconds by including XYZ.Params.TimeLimit = 3.0 in your code for Model 3, where ’XYZ’ is the name of your model. How does the objective function value at termination compare the optimal value obtained in question 1c)?**"
   ]
  },
  {
   "cell_type": "markdown",
   "metadata": {},
   "source": [
    "The objective function value at termination compare the optimal value obtained in question 1c) are the same."
   ]
  },
  {
   "cell_type": "code",
   "execution_count": 7,
   "metadata": {
    "tags": []
   },
   "outputs": [
    {
     "name": "stdout",
     "output_type": "stream",
     "text": [
      "Set parameter TimeLimit to value 3\n",
      "Gurobi Optimizer version 11.0.0 build v11.0.0rc2 (mac64[arm] - Darwin 22.5.0 22F82)\n",
      "\n",
      "CPU model: Apple M2\n",
      "Thread count: 8 physical cores, 8 logical processors, using up to 8 threads\n",
      "\n",
      "Optimize a model with 783 rows, 780 columns and 2340 nonzeros\n",
      "Model fingerprint: 0xf480024a\n",
      "Model has 76245 quadratic objective terms\n",
      "Variable types: 390 continuous, 390 integer (390 binary)\n",
      "Coefficient statistics:\n",
      "  Matrix range     [1e-06, 1e+00]\n",
      "  Objective range  [0e+00, 0e+00]\n",
      "  QObjective range [2e-07, 8e-02]\n",
      "  Bounds range     [1e+00, 1e+00]\n",
      "  RHS range        [5e-03, 4e+00]\n",
      "Presolve removed 390 rows and 0 columns\n",
      "Presolve time: 0.02s\n",
      "Presolved: 393 rows, 780 columns, 1950 nonzeros\n",
      "Presolved model has 76245 quadratic objective terms\n",
      "Variable types: 390 continuous, 390 integer (390 binary)\n",
      "Found heuristic solution: objective 0.0009032\n",
      "\n",
      "Root relaxation: objective 2.878501e-05, 129 iterations, 0.00 seconds (0.01 work units)\n",
      "\n",
      "    Nodes    |    Current Node    |     Objective Bounds      |     Work\n",
      " Expl Unexpl |  Obj  Depth IntInf | Incumbent    BestBd   Gap | It/Node Time\n",
      "\n",
      "     0     0    0.00003    0   21    0.00090    0.00003  96.8%     -    0s\n",
      "H    0     0                       0.0000723    0.00003  60.2%     -    0s\n",
      "     0     0    0.00003    0   21    0.00007    0.00003  60.2%     -    0s\n",
      "     0     0    0.00003    0   21    0.00007    0.00003  58.1%     -    0s\n",
      "     0     0    0.00003    0   21    0.00007    0.00003  58.1%     -    0s\n",
      "     0     2    0.00003    0   21    0.00007    0.00003  58.1%     -    0s\n",
      "H  168   127                       0.0000715    0.00003  57.7%  48.1    0s\n",
      "H  170   127                       0.0000676    0.00003  55.2%  48.2    0s\n",
      "H 1954  1086                       0.0000675    0.00004  42.1%  46.3    2s\n",
      "\n",
      "Explored 1990 nodes (91203 simplex iterations) in 3.00 seconds (2.71 work units)\n",
      "Thread count was 8 (of 8 available processors)\n",
      "\n",
      "Solution count 5: 6.75347e-05 6.75857e-05 7.1543e-05 ... 0.000903152\n",
      "\n",
      "Time limit reached\n",
      "Best objective 6.753470760728e-05, best bound 3.908528948687e-05, gap 42.1256%\n"
     ]
    }
   ],
   "source": [
    "# Construct a 'blank' model\n",
    "mod = Model()\n",
    "\n",
    "# Define decision variables\n",
    "w = mod.addVars(390)\n",
    "\n",
    "# Add decision variable: whether to choose the stock or not\n",
    "X = mod.addVars(390, vtype=GRB.BINARY)\n",
    "\n",
    "\n",
    "# Construct constraints\n",
    "# Weights add up to 1\n",
    "mod.addConstr(sum(w[i] for i in range(390)) == 1)\n",
    "\n",
    "# Weights are greater than 0\n",
    "for i in range(390):\n",
    "    mod.addConstr(w[i] >= 0)\n",
    "\n",
    "# Expected return should be at least r\n",
    "mod.addConstr(sum(w[i]*avg_return[i] for i in range(390)) >= 0.005)\n",
    "\n",
    "# selects at most 4\n",
    "mod.addConstr(sum(X[i] for i in range(390)) <= 4)\n",
    "\n",
    "# when X is 0, then w is 0; when X is 1, then w is positive\n",
    "for i in range(390):\n",
    "    mod.addConstr(X[i] >= w[i])\n",
    "\n",
    "# Create the objective function, and set it to be minimized\n",
    "mod.setObjective(sum(w[i]*w[j]*C[i,j] for i in range(390) for j in range(390)), GRB.MINIMIZE)\n",
    "\n",
    "mod.update()\n",
    "\n",
    "mod.Params.TimeLimit = 3.0\n",
    "\n",
    "mod.optimize()"
   ]
  },
  {
   "cell_type": "markdown",
   "metadata": {},
   "source": [
    "**(b) Set Gurobi to terminate after reaching a gap of 10% by including XYZ.Params.MIPGap = 0.1 in your code for Model 3, where ’XYZ’ is the name of your model. (Note: The default gap in Gurobi is 0.0001.) How does the solver time compare with the solution time obtained in question 1c)?**"
   ]
  },
  {
   "cell_type": "markdown",
   "metadata": {},
   "source": [
    "The solver time in 3(b) is shorter as compared with the solution time obtained in question 1c)."
   ]
  },
  {
   "cell_type": "code",
   "execution_count": 8,
   "metadata": {
    "tags": []
   },
   "outputs": [
    {
     "name": "stdout",
     "output_type": "stream",
     "text": [
      "Set parameter MIPGap to value 0.1\n",
      "Gurobi Optimizer version 11.0.0 build v11.0.0rc2 (mac64[arm] - Darwin 22.5.0 22F82)\n",
      "\n",
      "CPU model: Apple M2\n",
      "Thread count: 8 physical cores, 8 logical processors, using up to 8 threads\n",
      "\n",
      "Optimize a model with 783 rows, 780 columns and 2340 nonzeros\n",
      "Model fingerprint: 0xf480024a\n",
      "Model has 76245 quadratic objective terms\n",
      "Variable types: 390 continuous, 390 integer (390 binary)\n",
      "Coefficient statistics:\n",
      "  Matrix range     [1e-06, 1e+00]\n",
      "  Objective range  [0e+00, 0e+00]\n",
      "  QObjective range [2e-07, 8e-02]\n",
      "  Bounds range     [1e+00, 1e+00]\n",
      "  RHS range        [5e-03, 4e+00]\n",
      "Presolve removed 390 rows and 0 columns\n",
      "Presolve time: 0.02s\n",
      "Presolved: 393 rows, 780 columns, 1950 nonzeros\n",
      "Presolved model has 76245 quadratic objective terms\n",
      "Variable types: 390 continuous, 390 integer (390 binary)\n",
      "Found heuristic solution: objective 0.0009032\n",
      "\n",
      "Root relaxation: objective 2.878501e-05, 129 iterations, 0.00 seconds (0.01 work units)\n",
      "\n",
      "    Nodes    |    Current Node    |     Objective Bounds      |     Work\n",
      " Expl Unexpl |  Obj  Depth IntInf | Incumbent    BestBd   Gap | It/Node Time\n",
      "\n",
      "     0     0    0.00003    0   21    0.00090    0.00003  96.8%     -    0s\n",
      "H    0     0                       0.0000723    0.00003  60.2%     -    0s\n",
      "     0     0    0.00003    0   21    0.00007    0.00003  60.2%     -    0s\n",
      "     0     0    0.00003    0   21    0.00007    0.00003  57.0%     -    0s\n",
      "     0     0    0.00003    0   21    0.00007    0.00003  56.1%     -    0s\n",
      "     0     2    0.00003    0   21    0.00007    0.00003  56.1%     -    0s\n",
      "H  423   323                       0.0000676    0.00003  53.1%  51.4    0s\n",
      "H 1651   888                       0.0000675    0.00004  45.5%  50.9    2s\n",
      "  3086  1442    0.00006   37   26    0.00007    0.00004  40.6%  48.0    5s\n",
      "  8333  2266     cutoff   28         0.00007    0.00005  31.6%  52.3   10s\n",
      " 14208  3191     cutoff   36         0.00007    0.00005  19.9%  54.3   15s\n",
      " 18384  2962     cutoff   38         0.00007    0.00006  14.7%  57.4   20s\n",
      " 22430  2304     cutoff   38         0.00007    0.00006  10.0%  64.5   25s\n",
      "\n",
      "Explored 23014 nodes (1508512 simplex iterations) in 25.31 seconds (24.06 work units)\n",
      "Thread count was 8 (of 8 available processors)\n",
      "\n",
      "Solution count 4: 6.75347e-05 6.75857e-05 7.23026e-05 0.000903152 \n",
      "\n",
      "Optimal solution found (tolerance 1.00e-01)\n",
      "Best objective 6.753470760728e-05, best bound 6.117828186708e-05, gap 9.4121%\n"
     ]
    }
   ],
   "source": [
    "# Construct a 'blank' model\n",
    "mod = Model()\n",
    "\n",
    "# Define decision variables\n",
    "w = mod.addVars(390)\n",
    "\n",
    "# Add decision variable: whether to choose the stock or not\n",
    "X = mod.addVars(390, vtype=GRB.BINARY)\n",
    "\n",
    "\n",
    "# Construct constraints\n",
    "# Weights add up to 1\n",
    "mod.addConstr(sum(w[i] for i in range(390)) == 1)\n",
    "\n",
    "# Weights are greater than 0\n",
    "for i in range(390):\n",
    "    mod.addConstr(w[i] >= 0)\n",
    "\n",
    "# Expected return should be at least r\n",
    "mod.addConstr(sum(w[i]*avg_return[i] for i in range(390)) >= 0.005)\n",
    "\n",
    "# selects at most 4\n",
    "mod.addConstr(sum(X[i] for i in range(390)) <= 4)\n",
    "\n",
    "# when X is 0, then w is 0; when X is 1, then w is positive\n",
    "for i in range(390):\n",
    "    mod.addConstr(X[i] >= w[i])\n",
    "\n",
    "# Create the objective function, and set it to be minimized\n",
    "mod.setObjective(sum(w[i]*w[j]*C[i,j] for i in range(390) for j in range(390)), GRB.MINIMIZE)\n",
    "\n",
    "mod.update()\n",
    "\n",
    "mod.Params.MIPGap = 0.1\n",
    "\n",
    "mod.optimize()"
   ]
  }
 ],
 "metadata": {
  "kernelspec": {
   "display_name": "Python 3 (ipykernel)",
   "language": "python",
   "name": "python3"
  },
  "language_info": {
   "codemirror_mode": {
    "name": "ipython",
    "version": 3
   },
   "file_extension": ".py",
   "mimetype": "text/x-python",
   "name": "python",
   "nbconvert_exporter": "python",
   "pygments_lexer": "ipython3",
   "version": "3.10.12"
  },
  "toc": {
   "base_numbering": 1,
   "nav_menu": {},
   "number_sections": true,
   "sideBar": true,
   "skip_h1_title": false,
   "title_cell": "Table of Contents",
   "title_sidebar": "Contents",
   "toc_cell": false,
   "toc_position": {},
   "toc_section_display": true,
   "toc_window_display": false
  }
 },
 "nbformat": 4,
 "nbformat_minor": 4
}
